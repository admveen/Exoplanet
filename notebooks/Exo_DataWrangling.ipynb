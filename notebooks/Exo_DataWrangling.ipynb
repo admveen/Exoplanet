{
 "cells": [
  {
   "source": [
    "#  Exoplanet Transit Classification (Kepler Mission)\n",
    "## Data Wrangling Part I\n",
    "### I. Extracting Kepler Cumulative Table"
   ],
   "cell_type": "markdown",
   "metadata": {}
  },
  {
   "cell_type": "code",
   "execution_count": 64,
   "id": "accompanied-exception",
   "metadata": {},
   "outputs": [],
   "source": [
    "\n",
    "#standard data wrangling packages\n",
    "import pandas as pd\n",
    "import numpy as np\n",
    "import matplotlib.pyplot as plt\n",
    "\n",
    "import requests\n",
    "\n",
    "import os\n",
    "import os.path\n",
    "\n"
   ]
  },
  {
   "cell_type": "code",
   "execution_count": 65,
   "metadata": {},
   "outputs": [],
   "source": [
    "caltech_KOI_url = 'https://exoplanetarchive.ipac.caltech.edu/cgi-bin/nstedAPI/nph-nstedAPI?table=cumulative'\n",
    "KOI_data = pd.read_csv(caltech_KOI_url)"
   ]
  },
  {
   "cell_type": "code",
   "execution_count": 66,
   "metadata": {},
   "outputs": [
    {
     "output_type": "execute_result",
     "data": {
      "text/plain": [
       "Index(['kepid', 'kepoi_name', 'kepler_name', 'koi_disposition',\n",
       "       'koi_pdisposition', 'koi_score', 'koi_fpflag_nt', 'koi_fpflag_ss',\n",
       "       'koi_fpflag_co', 'koi_fpflag_ec', 'koi_period', 'koi_period_err1',\n",
       "       'koi_period_err2', 'koi_time0bk', 'koi_time0bk_err1',\n",
       "       'koi_time0bk_err2', 'koi_impact', 'koi_impact_err1', 'koi_impact_err2',\n",
       "       'koi_duration', 'koi_duration_err1', 'koi_duration_err2', 'koi_depth',\n",
       "       'koi_depth_err1', 'koi_depth_err2', 'koi_prad', 'koi_prad_err1',\n",
       "       'koi_prad_err2', 'koi_teq', 'koi_teq_err1', 'koi_teq_err2', 'koi_insol',\n",
       "       'koi_insol_err1', 'koi_insol_err2', 'koi_model_snr', 'koi_tce_plnt_num',\n",
       "       'koi_tce_delivname', 'koi_steff', 'koi_steff_err1', 'koi_steff_err2',\n",
       "       'koi_slogg', 'koi_slogg_err1', 'koi_slogg_err2', 'koi_srad',\n",
       "       'koi_srad_err1', 'koi_srad_err2', 'ra_str', 'dec_str', 'koi_kepmag',\n",
       "       'koi_kepmag_err'],\n",
       "      dtype='object')"
      ]
     },
     "metadata": {},
     "execution_count": 66
    }
   ],
   "source": [
    "KOI_data.columns"
   ]
  },
  {
   "source": [
    "#### These columns index Kepler objects of interests with transit crossing events TCEs identified in the light curves observed on a given star. Data column definitions can be found at https://exoplanetarchive.ipac.caltech.edu/docs/API_kepcandidate_columns.html. Many of the planetary and orbital parameters are quantities derived from model fits to the light curve data. The stellar parameters are derived from ground based spectroscopy."
   ],
   "cell_type": "markdown",
   "metadata": {}
  },
  {
   "cell_type": "code",
   "execution_count": 67,
   "metadata": {},
   "outputs": [
    {
     "output_type": "execute_result",
     "data": {
      "text/plain": [
       "(9564, 50)"
      ]
     },
     "metadata": {},
     "execution_count": 67
    }
   ],
   "source": [
    "KOI_data.shape"
   ]
  },
  {
   "cell_type": "code",
   "execution_count": 68,
   "metadata": {},
   "outputs": [
    {
     "output_type": "execute_result",
     "data": {
      "text/plain": [
       "      kepid kepoi_name   kepler_name koi_disposition koi_pdisposition  \\\n",
       "0  10797460  K00752.01  Kepler-227 b       CONFIRMED        CANDIDATE   \n",
       "1  10797460  K00752.02  Kepler-227 c       CONFIRMED        CANDIDATE   \n",
       "2  10811496  K00753.01           NaN       CANDIDATE        CANDIDATE   \n",
       "3  10848459  K00754.01           NaN  FALSE POSITIVE   FALSE POSITIVE   \n",
       "4  10854555  K00755.01  Kepler-664 b       CONFIRMED        CANDIDATE   \n",
       "\n",
       "   koi_score  koi_fpflag_nt  koi_fpflag_ss  koi_fpflag_co  koi_fpflag_ec  ...  \\\n",
       "0      1.000              0              0              0              0  ...   \n",
       "1      0.969              0              0              0              0  ...   \n",
       "2      0.000              0              0              0              0  ...   \n",
       "3      0.000              0              1              0              0  ...   \n",
       "4      1.000              0              0              0              0  ...   \n",
       "\n",
       "   koi_slogg  koi_slogg_err1  koi_slogg_err2  koi_srad  koi_srad_err1  \\\n",
       "0      4.467           0.064          -0.096     0.927          0.105   \n",
       "1      4.467           0.064          -0.096     0.927          0.105   \n",
       "2      4.544           0.044          -0.176     0.868          0.233   \n",
       "3      4.564           0.053          -0.168     0.791          0.201   \n",
       "4      4.438           0.070          -0.210     1.046          0.334   \n",
       "\n",
       "   koi_srad_err2        ra_str       dec_str  koi_kepmag  koi_kepmag_err  \n",
       "0         -0.061  19h27m44.22s  +48d08m29.9s      15.347             NaN  \n",
       "1         -0.061  19h27m44.22s  +48d08m29.9s      15.347             NaN  \n",
       "2         -0.078  19h48m01.16s  +48d08m02.9s      15.436             NaN  \n",
       "3         -0.067  19h02m08.31s  +48d17m06.8s      15.597             NaN  \n",
       "4         -0.133  19h15m01.17s  +48d13m34.3s      15.509             NaN  \n",
       "\n",
       "[5 rows x 50 columns]"
      ],
      "text/html": "<div>\n<style scoped>\n    .dataframe tbody tr th:only-of-type {\n        vertical-align: middle;\n    }\n\n    .dataframe tbody tr th {\n        vertical-align: top;\n    }\n\n    .dataframe thead th {\n        text-align: right;\n    }\n</style>\n<table border=\"1\" class=\"dataframe\">\n  <thead>\n    <tr style=\"text-align: right;\">\n      <th></th>\n      <th>kepid</th>\n      <th>kepoi_name</th>\n      <th>kepler_name</th>\n      <th>koi_disposition</th>\n      <th>koi_pdisposition</th>\n      <th>koi_score</th>\n      <th>koi_fpflag_nt</th>\n      <th>koi_fpflag_ss</th>\n      <th>koi_fpflag_co</th>\n      <th>koi_fpflag_ec</th>\n      <th>...</th>\n      <th>koi_slogg</th>\n      <th>koi_slogg_err1</th>\n      <th>koi_slogg_err2</th>\n      <th>koi_srad</th>\n      <th>koi_srad_err1</th>\n      <th>koi_srad_err2</th>\n      <th>ra_str</th>\n      <th>dec_str</th>\n      <th>koi_kepmag</th>\n      <th>koi_kepmag_err</th>\n    </tr>\n  </thead>\n  <tbody>\n    <tr>\n      <th>0</th>\n      <td>10797460</td>\n      <td>K00752.01</td>\n      <td>Kepler-227 b</td>\n      <td>CONFIRMED</td>\n      <td>CANDIDATE</td>\n      <td>1.000</td>\n      <td>0</td>\n      <td>0</td>\n      <td>0</td>\n      <td>0</td>\n      <td>...</td>\n      <td>4.467</td>\n      <td>0.064</td>\n      <td>-0.096</td>\n      <td>0.927</td>\n      <td>0.105</td>\n      <td>-0.061</td>\n      <td>19h27m44.22s</td>\n      <td>+48d08m29.9s</td>\n      <td>15.347</td>\n      <td>NaN</td>\n    </tr>\n    <tr>\n      <th>1</th>\n      <td>10797460</td>\n      <td>K00752.02</td>\n      <td>Kepler-227 c</td>\n      <td>CONFIRMED</td>\n      <td>CANDIDATE</td>\n      <td>0.969</td>\n      <td>0</td>\n      <td>0</td>\n      <td>0</td>\n      <td>0</td>\n      <td>...</td>\n      <td>4.467</td>\n      <td>0.064</td>\n      <td>-0.096</td>\n      <td>0.927</td>\n      <td>0.105</td>\n      <td>-0.061</td>\n      <td>19h27m44.22s</td>\n      <td>+48d08m29.9s</td>\n      <td>15.347</td>\n      <td>NaN</td>\n    </tr>\n    <tr>\n      <th>2</th>\n      <td>10811496</td>\n      <td>K00753.01</td>\n      <td>NaN</td>\n      <td>CANDIDATE</td>\n      <td>CANDIDATE</td>\n      <td>0.000</td>\n      <td>0</td>\n      <td>0</td>\n      <td>0</td>\n      <td>0</td>\n      <td>...</td>\n      <td>4.544</td>\n      <td>0.044</td>\n      <td>-0.176</td>\n      <td>0.868</td>\n      <td>0.233</td>\n      <td>-0.078</td>\n      <td>19h48m01.16s</td>\n      <td>+48d08m02.9s</td>\n      <td>15.436</td>\n      <td>NaN</td>\n    </tr>\n    <tr>\n      <th>3</th>\n      <td>10848459</td>\n      <td>K00754.01</td>\n      <td>NaN</td>\n      <td>FALSE POSITIVE</td>\n      <td>FALSE POSITIVE</td>\n      <td>0.000</td>\n      <td>0</td>\n      <td>1</td>\n      <td>0</td>\n      <td>0</td>\n      <td>...</td>\n      <td>4.564</td>\n      <td>0.053</td>\n      <td>-0.168</td>\n      <td>0.791</td>\n      <td>0.201</td>\n      <td>-0.067</td>\n      <td>19h02m08.31s</td>\n      <td>+48d17m06.8s</td>\n      <td>15.597</td>\n      <td>NaN</td>\n    </tr>\n    <tr>\n      <th>4</th>\n      <td>10854555</td>\n      <td>K00755.01</td>\n      <td>Kepler-664 b</td>\n      <td>CONFIRMED</td>\n      <td>CANDIDATE</td>\n      <td>1.000</td>\n      <td>0</td>\n      <td>0</td>\n      <td>0</td>\n      <td>0</td>\n      <td>...</td>\n      <td>4.438</td>\n      <td>0.070</td>\n      <td>-0.210</td>\n      <td>1.046</td>\n      <td>0.334</td>\n      <td>-0.133</td>\n      <td>19h15m01.17s</td>\n      <td>+48d13m34.3s</td>\n      <td>15.509</td>\n      <td>NaN</td>\n    </tr>\n  </tbody>\n</table>\n<p>5 rows × 50 columns</p>\n</div>"
     },
     "metadata": {},
     "execution_count": 68
    }
   ],
   "source": [
    "KOI_data.head()"
   ]
  },
  {
   "cell_type": "code",
   "execution_count": 69,
   "metadata": {},
   "outputs": [
    {
     "output_type": "stream",
     "name": "stdout",
     "text": [
      "<class 'pandas.core.frame.DataFrame'>\nRangeIndex: 9564 entries, 0 to 9563\nData columns (total 50 columns):\n #   Column             Non-Null Count  Dtype  \n---  ------             --------------  -----  \n 0   kepid              9564 non-null   int64  \n 1   kepoi_name         9564 non-null   object \n 2   kepler_name        2360 non-null   object \n 3   koi_disposition    9564 non-null   object \n 4   koi_pdisposition   9564 non-null   object \n 5   koi_score          8054 non-null   float64\n 6   koi_fpflag_nt      9564 non-null   int64  \n 7   koi_fpflag_ss      9564 non-null   int64  \n 8   koi_fpflag_co      9564 non-null   int64  \n 9   koi_fpflag_ec      9564 non-null   int64  \n 10  koi_period         9564 non-null   float64\n 11  koi_period_err1    9110 non-null   float64\n 12  koi_period_err2    9110 non-null   float64\n 13  koi_time0bk        9564 non-null   float64\n 14  koi_time0bk_err1   9110 non-null   float64\n 15  koi_time0bk_err2   9110 non-null   float64\n 16  koi_impact         9201 non-null   float64\n 17  koi_impact_err1    9110 non-null   float64\n 18  koi_impact_err2    9110 non-null   float64\n 19  koi_duration       9564 non-null   float64\n 20  koi_duration_err1  9110 non-null   float64\n 21  koi_duration_err2  9110 non-null   float64\n 22  koi_depth          9201 non-null   float64\n 23  koi_depth_err1     9110 non-null   float64\n 24  koi_depth_err2     9110 non-null   float64\n 25  koi_prad           9201 non-null   float64\n 26  koi_prad_err1      9201 non-null   float64\n 27  koi_prad_err2      9201 non-null   float64\n 28  koi_teq            9201 non-null   float64\n 29  koi_teq_err1       0 non-null      float64\n 30  koi_teq_err2       0 non-null      float64\n 31  koi_insol          9243 non-null   float64\n 32  koi_insol_err1     9243 non-null   float64\n 33  koi_insol_err2     9243 non-null   float64\n 34  koi_model_snr      9201 non-null   float64\n 35  koi_tce_plnt_num   9218 non-null   float64\n 36  koi_tce_delivname  9218 non-null   object \n 37  koi_steff          9201 non-null   float64\n 38  koi_steff_err1     9096 non-null   float64\n 39  koi_steff_err2     9081 non-null   float64\n 40  koi_slogg          9201 non-null   float64\n 41  koi_slogg_err1     9096 non-null   float64\n 42  koi_slogg_err2     9096 non-null   float64\n 43  koi_srad           9201 non-null   float64\n 44  koi_srad_err1      9096 non-null   float64\n 45  koi_srad_err2      9096 non-null   float64\n 46  ra_str             9564 non-null   object \n 47  dec_str            9564 non-null   object \n 48  koi_kepmag         9563 non-null   float64\n 49  koi_kepmag_err     0 non-null      float64\ndtypes: float64(38), int64(5), object(7)\nmemory usage: 3.6+ MB\n"
     ]
    }
   ],
   "source": [
    "KOI_data.info()"
   ]
  },
  {
   "source": [
    "### Label Identification: Defining the classes"
   ],
   "cell_type": "markdown",
   "metadata": {}
  },
  {
   "cell_type": "code",
   "execution_count": 70,
   "metadata": {},
   "outputs": [
    {
     "output_type": "stream",
     "name": "stdout",
     "text": [
      "{'Kepler Confirmed Planet': 2358, 'Kepler False Positives': 4840}\n"
     ]
    }
   ],
   "source": [
    "KeplerCPFPcount = {'Kepler Confirmed Planet': (KOI_data['koi_disposition'] == 'CONFIRMED').sum(), 'Kepler False Positives': (KOI_data['koi_disposition'] == 'FALSE POSITIVE').sum()}\n",
    "print(KeplerCPFPcount)"
   ]
  },
  {
   "source": [
    "#### Subsetting on confirmed planets and false positives, we see that we have a healthy number in each class for doing binary classification. The Kepler cumulative table is nice enough to have flags indicating what kind of false positive the transit is believed to be.\n",
    "\n",
    "#### koi_fpflag_nt is a non-transiting oscillatory phenomenon in the light curve. These can come from variable pulsing stars. This also encompasses instrument noise and the like.\n",
    "\n",
    "#### koi_fpflag_ss flags secondary signal phenomena. Thus we have a signal with a primary and secondary dip in a given period. These are likely due to eclipsing binaries that orbit the star of interest and create periodic dips in the light curve amplitude that can mimic a transiting planet. \n",
    "\n",
    "#### koi_fpflag_co is due to a star near to the star of interest and in the field of view with its motion creating a periodic modulation of the light curve. This results in a fluctuation of the centroid of light on the detecting aperture (centroid offset).\n",
    "\n",
    "### Note: Centroid offsets and secondary signal flags and are not mutually exlusive.\n",
    "\n"
   ],
   "cell_type": "markdown",
   "metadata": {}
  },
  {
   "cell_type": "code",
   "execution_count": 71,
   "metadata": {},
   "outputs": [
    {
     "output_type": "execute_result",
     "data": {
      "text/plain": [
       "{'Secondary Signal': 2226, 'Non Transiting': 1530, 'Centroid Offset': 1889}"
      ]
     },
     "metadata": {},
     "execution_count": 71
    }
   ],
   "source": [
    "{'Secondary Signal': (KOI_data['koi_fpflag_ss'] == 1).sum(), 'Non Transiting': (KOI_data['koi_fpflag_nt'] == 1).sum(), 'Centroid Offset': (KOI_data['koi_fpflag_co'] == 1).sum()}"
   ]
  },
  {
   "source": [
    "Overlap of secondary signal false positives with centroid offset:"
   ],
   "cell_type": "markdown",
   "metadata": {}
  },
  {
   "cell_type": "code",
   "execution_count": 72,
   "metadata": {},
   "outputs": [
    {
     "output_type": "execute_result",
     "data": {
      "text/plain": [
       "683"
      ]
     },
     "metadata": {},
     "execution_count": 72
    }
   ],
   "source": [
    "((KOI_data['koi_fpflag_ss'] == 1) & (KOI_data['koi_fpflag_co'] == 1)).sum()"
   ]
  },
  {
   "source": [
    "An interesting point is that there is a small overlap between secondary signal false positives and a transit that has actually been confirmed to be a planet. It turns out that there are a very small fraction of seemingly eclipsing binary star partners that are in fact 'Hot Jupiters'. These are planets that are really large and close to the star thus sending out a high degree of reflected light from the star. This can result in weak secondary transit phenomena. "
   ],
   "cell_type": "markdown",
   "metadata": {}
  },
  {
   "cell_type": "code",
   "execution_count": 73,
   "metadata": {},
   "outputs": [
    {
     "output_type": "execute_result",
     "data": {
      "text/plain": [
       "14"
      ]
     },
     "metadata": {},
     "execution_count": 73
    }
   ],
   "source": [
    "((KOI_data['koi_fpflag_ss'] == 1) & (KOI_data['koi_disposition'] == 'CONFIRMED')).sum()"
   ]
  },
  {
   "source": [
    "#### Let's also take a look at the overlap between non-transiting flags and confirmed planets / secondary transiting phenomena."
   ],
   "cell_type": "markdown",
   "metadata": {}
  },
  {
   "cell_type": "code",
   "execution_count": 74,
   "metadata": {},
   "outputs": [
    {
     "output_type": "execute_result",
     "data": {
      "text/plain": [
       "2"
      ]
     },
     "metadata": {},
     "execution_count": 74
    }
   ],
   "source": [
    "((KOI_data['koi_fpflag_nt'] == 1) & (KOI_data['koi_disposition'] == 'CONFIRMED')).sum()"
   ]
  },
  {
   "cell_type": "code",
   "execution_count": 75,
   "metadata": {},
   "outputs": [
    {
     "output_type": "execute_result",
     "data": {
      "text/plain": [
       "16"
      ]
     },
     "metadata": {},
     "execution_count": 75
    }
   ],
   "source": [
    "((KOI_data['koi_fpflag_nt'] == 1) & (KOI_data['koi_fpflag_ss'] == 1)).sum()"
   ]
  },
  {
   "source": [
    "This is certainly interesting and probably indicates that members of each class live at/near a classification boundary. Maybe these will be reflected in some of the catalog features and time-series extracted features which we can take a look at when doing EDA.\n",
    "\n",
    "#### The following has confirmed planets, false positive secondaries and false positive non transiting. We're going to do a three-way classification. We have excluded centroid offset because these are usually determined by looking at pixel imaging of the telescope and not solely from image-averaged light curves."
   ],
   "cell_type": "markdown",
   "metadata": {}
  },
  {
   "cell_type": "code",
   "execution_count": 76,
   "metadata": {},
   "outputs": [
    {
     "output_type": "execute_result",
     "data": {
      "text/plain": [
       "      kepid kepoi_name   kepler_name koi_disposition koi_pdisposition  \\\n",
       "0  10797460  K00752.01  Kepler-227 b       CONFIRMED        CANDIDATE   \n",
       "1  10797460  K00752.02  Kepler-227 c       CONFIRMED        CANDIDATE   \n",
       "3  10848459  K00754.01           NaN  FALSE POSITIVE   FALSE POSITIVE   \n",
       "4  10854555  K00755.01  Kepler-664 b       CONFIRMED        CANDIDATE   \n",
       "5  10872983  K00756.01  Kepler-228 d       CONFIRMED        CANDIDATE   \n",
       "\n",
       "   koi_score  koi_fpflag_nt  koi_fpflag_ss  koi_fpflag_co  koi_fpflag_ec  ...  \\\n",
       "0      1.000              0              0              0              0  ...   \n",
       "1      0.969              0              0              0              0  ...   \n",
       "3      0.000              0              1              0              0  ...   \n",
       "4      1.000              0              0              0              0  ...   \n",
       "5      1.000              0              0              0              0  ...   \n",
       "\n",
       "   koi_slogg  koi_slogg_err1  koi_slogg_err2  koi_srad  koi_srad_err1  \\\n",
       "0      4.467           0.064          -0.096     0.927          0.105   \n",
       "1      4.467           0.064          -0.096     0.927          0.105   \n",
       "3      4.564           0.053          -0.168     0.791          0.201   \n",
       "4      4.438           0.070          -0.210     1.046          0.334   \n",
       "5      4.486           0.054          -0.229     0.972          0.315   \n",
       "\n",
       "   koi_srad_err2        ra_str       dec_str  koi_kepmag  koi_kepmag_err  \n",
       "0         -0.061  19h27m44.22s  +48d08m29.9s      15.347             NaN  \n",
       "1         -0.061  19h27m44.22s  +48d08m29.9s      15.347             NaN  \n",
       "3         -0.067  19h02m08.31s  +48d17m06.8s      15.597             NaN  \n",
       "4         -0.133  19h15m01.17s  +48d13m34.3s      15.509             NaN  \n",
       "5         -0.105  19h45m08.67s  +48d13m28.8s      15.714             NaN  \n",
       "\n",
       "[5 rows x 50 columns]"
      ],
      "text/html": "<div>\n<style scoped>\n    .dataframe tbody tr th:only-of-type {\n        vertical-align: middle;\n    }\n\n    .dataframe tbody tr th {\n        vertical-align: top;\n    }\n\n    .dataframe thead th {\n        text-align: right;\n    }\n</style>\n<table border=\"1\" class=\"dataframe\">\n  <thead>\n    <tr style=\"text-align: right;\">\n      <th></th>\n      <th>kepid</th>\n      <th>kepoi_name</th>\n      <th>kepler_name</th>\n      <th>koi_disposition</th>\n      <th>koi_pdisposition</th>\n      <th>koi_score</th>\n      <th>koi_fpflag_nt</th>\n      <th>koi_fpflag_ss</th>\n      <th>koi_fpflag_co</th>\n      <th>koi_fpflag_ec</th>\n      <th>...</th>\n      <th>koi_slogg</th>\n      <th>koi_slogg_err1</th>\n      <th>koi_slogg_err2</th>\n      <th>koi_srad</th>\n      <th>koi_srad_err1</th>\n      <th>koi_srad_err2</th>\n      <th>ra_str</th>\n      <th>dec_str</th>\n      <th>koi_kepmag</th>\n      <th>koi_kepmag_err</th>\n    </tr>\n  </thead>\n  <tbody>\n    <tr>\n      <th>0</th>\n      <td>10797460</td>\n      <td>K00752.01</td>\n      <td>Kepler-227 b</td>\n      <td>CONFIRMED</td>\n      <td>CANDIDATE</td>\n      <td>1.000</td>\n      <td>0</td>\n      <td>0</td>\n      <td>0</td>\n      <td>0</td>\n      <td>...</td>\n      <td>4.467</td>\n      <td>0.064</td>\n      <td>-0.096</td>\n      <td>0.927</td>\n      <td>0.105</td>\n      <td>-0.061</td>\n      <td>19h27m44.22s</td>\n      <td>+48d08m29.9s</td>\n      <td>15.347</td>\n      <td>NaN</td>\n    </tr>\n    <tr>\n      <th>1</th>\n      <td>10797460</td>\n      <td>K00752.02</td>\n      <td>Kepler-227 c</td>\n      <td>CONFIRMED</td>\n      <td>CANDIDATE</td>\n      <td>0.969</td>\n      <td>0</td>\n      <td>0</td>\n      <td>0</td>\n      <td>0</td>\n      <td>...</td>\n      <td>4.467</td>\n      <td>0.064</td>\n      <td>-0.096</td>\n      <td>0.927</td>\n      <td>0.105</td>\n      <td>-0.061</td>\n      <td>19h27m44.22s</td>\n      <td>+48d08m29.9s</td>\n      <td>15.347</td>\n      <td>NaN</td>\n    </tr>\n    <tr>\n      <th>3</th>\n      <td>10848459</td>\n      <td>K00754.01</td>\n      <td>NaN</td>\n      <td>FALSE POSITIVE</td>\n      <td>FALSE POSITIVE</td>\n      <td>0.000</td>\n      <td>0</td>\n      <td>1</td>\n      <td>0</td>\n      <td>0</td>\n      <td>...</td>\n      <td>4.564</td>\n      <td>0.053</td>\n      <td>-0.168</td>\n      <td>0.791</td>\n      <td>0.201</td>\n      <td>-0.067</td>\n      <td>19h02m08.31s</td>\n      <td>+48d17m06.8s</td>\n      <td>15.597</td>\n      <td>NaN</td>\n    </tr>\n    <tr>\n      <th>4</th>\n      <td>10854555</td>\n      <td>K00755.01</td>\n      <td>Kepler-664 b</td>\n      <td>CONFIRMED</td>\n      <td>CANDIDATE</td>\n      <td>1.000</td>\n      <td>0</td>\n      <td>0</td>\n      <td>0</td>\n      <td>0</td>\n      <td>...</td>\n      <td>4.438</td>\n      <td>0.070</td>\n      <td>-0.210</td>\n      <td>1.046</td>\n      <td>0.334</td>\n      <td>-0.133</td>\n      <td>19h15m01.17s</td>\n      <td>+48d13m34.3s</td>\n      <td>15.509</td>\n      <td>NaN</td>\n    </tr>\n    <tr>\n      <th>5</th>\n      <td>10872983</td>\n      <td>K00756.01</td>\n      <td>Kepler-228 d</td>\n      <td>CONFIRMED</td>\n      <td>CANDIDATE</td>\n      <td>1.000</td>\n      <td>0</td>\n      <td>0</td>\n      <td>0</td>\n      <td>0</td>\n      <td>...</td>\n      <td>4.486</td>\n      <td>0.054</td>\n      <td>-0.229</td>\n      <td>0.972</td>\n      <td>0.315</td>\n      <td>-0.105</td>\n      <td>19h45m08.67s</td>\n      <td>+48d13m28.8s</td>\n      <td>15.714</td>\n      <td>NaN</td>\n    </tr>\n  </tbody>\n</table>\n<p>5 rows × 50 columns</p>\n</div>"
     },
     "metadata": {},
     "execution_count": 76
    }
   ],
   "source": [
    "KOI_intermediate =  KOI_data.loc[(KOI_data['koi_disposition'] == 'CONFIRMED') | ( (KOI_data['koi_disposition'] == 'FALSE POSITIVE') & (KOI_data['koi_fpflag_ss'] == 1) ) | ( (KOI_data['koi_disposition'] == 'FALSE POSITIVE') & (KOI_data['koi_fpflag_nt'] == 1) )]\n",
    "KOI_intermediate.head()"
   ]
  },
  {
   "source": [
    "#### Drop intersection of non-transiting and secondary signal false positives and intersection of confirmed planets and nt flags."
   ],
   "cell_type": "markdown",
   "metadata": {}
  },
  {
   "cell_type": "code",
   "execution_count": 77,
   "metadata": {},
   "outputs": [
    {
     "output_type": "execute_result",
     "data": {
      "text/plain": [
       "        kepid kepoi_name kepler_name koi_disposition koi_pdisposition  \\\n",
       "3751  7515670  K02360.02         NaN  FALSE POSITIVE   FALSE POSITIVE   \n",
       "3864  9597729  K04417.01         NaN  FALSE POSITIVE   FALSE POSITIVE   \n",
       "4545  7889486  K03300.01         NaN  FALSE POSITIVE   FALSE POSITIVE   \n",
       "4633  8330548  K01132.02         NaN  FALSE POSITIVE   FALSE POSITIVE   \n",
       "4780  5816811  K01042.02         NaN  FALSE POSITIVE   FALSE POSITIVE   \n",
       "\n",
       "      koi_score  koi_fpflag_nt  koi_fpflag_ss  koi_fpflag_co  koi_fpflag_ec  \\\n",
       "3751        NaN              1              1              0              0   \n",
       "3864        0.0              1              1              1              0   \n",
       "4545        0.0              1              1              1              1   \n",
       "4633        NaN              1              1              0              0   \n",
       "4780        NaN              1              1              0              0   \n",
       "\n",
       "      ...  koi_slogg  koi_slogg_err1  koi_slogg_err2  koi_srad  koi_srad_err1  \\\n",
       "3751  ...        NaN             NaN             NaN       NaN            NaN   \n",
       "3864  ...      4.508           0.039          -0.208     0.929          0.278   \n",
       "4545  ...      4.527           0.036          -0.204     0.904          0.273   \n",
       "4633  ...        NaN             NaN             NaN       NaN            NaN   \n",
       "4780  ...        NaN             NaN             NaN       NaN            NaN   \n",
       "\n",
       "      koi_srad_err2        ra_str       dec_str  koi_kepmag  koi_kepmag_err  \n",
       "3751            NaN  19h11m12.98s  +43d10m08.3s      15.206             NaN  \n",
       "3864         -0.093  19h42m11.41s  +46d17m15.7s      14.840             NaN  \n",
       "4545         -0.073  19h25m07.91s  +43d36m29.7s      15.752             NaN  \n",
       "4633            NaN  20h04m04.01s  +44d14m01.8s      14.446             NaN  \n",
       "4780            NaN  19h53m21.34s  +41d04m24.5s      14.850             NaN  \n",
       "\n",
       "[5 rows x 50 columns]"
      ],
      "text/html": "<div>\n<style scoped>\n    .dataframe tbody tr th:only-of-type {\n        vertical-align: middle;\n    }\n\n    .dataframe tbody tr th {\n        vertical-align: top;\n    }\n\n    .dataframe thead th {\n        text-align: right;\n    }\n</style>\n<table border=\"1\" class=\"dataframe\">\n  <thead>\n    <tr style=\"text-align: right;\">\n      <th></th>\n      <th>kepid</th>\n      <th>kepoi_name</th>\n      <th>kepler_name</th>\n      <th>koi_disposition</th>\n      <th>koi_pdisposition</th>\n      <th>koi_score</th>\n      <th>koi_fpflag_nt</th>\n      <th>koi_fpflag_ss</th>\n      <th>koi_fpflag_co</th>\n      <th>koi_fpflag_ec</th>\n      <th>...</th>\n      <th>koi_slogg</th>\n      <th>koi_slogg_err1</th>\n      <th>koi_slogg_err2</th>\n      <th>koi_srad</th>\n      <th>koi_srad_err1</th>\n      <th>koi_srad_err2</th>\n      <th>ra_str</th>\n      <th>dec_str</th>\n      <th>koi_kepmag</th>\n      <th>koi_kepmag_err</th>\n    </tr>\n  </thead>\n  <tbody>\n    <tr>\n      <th>3751</th>\n      <td>7515670</td>\n      <td>K02360.02</td>\n      <td>NaN</td>\n      <td>FALSE POSITIVE</td>\n      <td>FALSE POSITIVE</td>\n      <td>NaN</td>\n      <td>1</td>\n      <td>1</td>\n      <td>0</td>\n      <td>0</td>\n      <td>...</td>\n      <td>NaN</td>\n      <td>NaN</td>\n      <td>NaN</td>\n      <td>NaN</td>\n      <td>NaN</td>\n      <td>NaN</td>\n      <td>19h11m12.98s</td>\n      <td>+43d10m08.3s</td>\n      <td>15.206</td>\n      <td>NaN</td>\n    </tr>\n    <tr>\n      <th>3864</th>\n      <td>9597729</td>\n      <td>K04417.01</td>\n      <td>NaN</td>\n      <td>FALSE POSITIVE</td>\n      <td>FALSE POSITIVE</td>\n      <td>0.0</td>\n      <td>1</td>\n      <td>1</td>\n      <td>1</td>\n      <td>0</td>\n      <td>...</td>\n      <td>4.508</td>\n      <td>0.039</td>\n      <td>-0.208</td>\n      <td>0.929</td>\n      <td>0.278</td>\n      <td>-0.093</td>\n      <td>19h42m11.41s</td>\n      <td>+46d17m15.7s</td>\n      <td>14.840</td>\n      <td>NaN</td>\n    </tr>\n    <tr>\n      <th>4545</th>\n      <td>7889486</td>\n      <td>K03300.01</td>\n      <td>NaN</td>\n      <td>FALSE POSITIVE</td>\n      <td>FALSE POSITIVE</td>\n      <td>0.0</td>\n      <td>1</td>\n      <td>1</td>\n      <td>1</td>\n      <td>1</td>\n      <td>...</td>\n      <td>4.527</td>\n      <td>0.036</td>\n      <td>-0.204</td>\n      <td>0.904</td>\n      <td>0.273</td>\n      <td>-0.073</td>\n      <td>19h25m07.91s</td>\n      <td>+43d36m29.7s</td>\n      <td>15.752</td>\n      <td>NaN</td>\n    </tr>\n    <tr>\n      <th>4633</th>\n      <td>8330548</td>\n      <td>K01132.02</td>\n      <td>NaN</td>\n      <td>FALSE POSITIVE</td>\n      <td>FALSE POSITIVE</td>\n      <td>NaN</td>\n      <td>1</td>\n      <td>1</td>\n      <td>0</td>\n      <td>0</td>\n      <td>...</td>\n      <td>NaN</td>\n      <td>NaN</td>\n      <td>NaN</td>\n      <td>NaN</td>\n      <td>NaN</td>\n      <td>NaN</td>\n      <td>20h04m04.01s</td>\n      <td>+44d14m01.8s</td>\n      <td>14.446</td>\n      <td>NaN</td>\n    </tr>\n    <tr>\n      <th>4780</th>\n      <td>5816811</td>\n      <td>K01042.02</td>\n      <td>NaN</td>\n      <td>FALSE POSITIVE</td>\n      <td>FALSE POSITIVE</td>\n      <td>NaN</td>\n      <td>1</td>\n      <td>1</td>\n      <td>0</td>\n      <td>0</td>\n      <td>...</td>\n      <td>NaN</td>\n      <td>NaN</td>\n      <td>NaN</td>\n      <td>NaN</td>\n      <td>NaN</td>\n      <td>NaN</td>\n      <td>19h53m21.34s</td>\n      <td>+41d04m24.5s</td>\n      <td>14.850</td>\n      <td>NaN</td>\n    </tr>\n  </tbody>\n</table>\n<p>5 rows × 50 columns</p>\n</div>"
     },
     "metadata": {},
     "execution_count": 77
    }
   ],
   "source": [
    "ss_nt_intersection = KOI_intermediate[(KOI_intermediate['koi_fpflag_nt'] == 1) & (KOI_intermediate['koi_fpflag_ss'] == 1)]\n",
    "ss_nt_intersection.head()"
   ]
  },
  {
   "cell_type": "code",
   "execution_count": 78,
   "metadata": {},
   "outputs": [],
   "source": [
    "cp_nt_intersection = KOI_intermediate[(KOI_intermediate['koi_disposition'] == 'CONFIRMED') & (KOI_intermediate['koi_fpflag_nt'] == 1)]"
   ]
  },
  {
   "cell_type": "code",
   "execution_count": 79,
   "metadata": {},
   "outputs": [],
   "source": [
    "KOI_intermediate = KOI_intermediate.drop(index = ss_nt_intersection.index).drop(index = cp_nt_intersection.index)"
   ]
  },
  {
   "source": [
    "#### All classes mutually distinct: now construct target labels:\n",
    "#### 1 = Confirmed Planet, 2 = Secondary Signal False Positive, 3 = Non transiting phenomena"
   ],
   "cell_type": "markdown",
   "metadata": {}
  },
  {
   "cell_type": "code",
   "execution_count": 80,
   "metadata": {},
   "outputs": [],
   "source": [
    "# label encode the three classes\n",
    "\n",
    "KOI_intermediate['target_label'] = (KOI_intermediate['koi_disposition'] == 'CONFIRMED').astype('int') + 2*KOI_intermediate['koi_fpflag_ss'] + 3*KOI_intermediate['koi_fpflag_nt'] \n"
   ]
  },
  {
   "cell_type": "code",
   "execution_count": 81,
   "metadata": {},
   "outputs": [
    {
     "output_type": "execute_result",
     "data": {
      "text/plain": [
       "1       2341\n",
       "2       2194\n",
       "3       1525\n",
       "1396       1\n",
       "Name: target_label, dtype: int64"
      ]
     },
     "metadata": {},
     "execution_count": 81
    }
   ],
   "source": [
    "KOI_intermediate['target_label'].value_counts()"
   ]
  },
  {
   "source": [
    "There's a wierd value in there, let's check it out. It seems to be just one observation. Looks like an error."
   ],
   "cell_type": "markdown",
   "metadata": {}
  },
  {
   "cell_type": "code",
   "execution_count": 82,
   "metadata": {},
   "outputs": [
    {
     "output_type": "execute_result",
     "data": {
      "text/plain": [
       "         kepid kepoi_name   kepler_name koi_disposition koi_pdisposition  \\\n",
       "3008  10934674  K00477.01  Kepler-567 b       CONFIRMED        CANDIDATE   \n",
       "\n",
       "      koi_score  koi_fpflag_nt  koi_fpflag_ss  koi_fpflag_co  koi_fpflag_ec  \\\n",
       "3008        1.0            465              0              0              0   \n",
       "\n",
       "      ...  koi_slogg_err1  koi_slogg_err2  koi_srad  koi_srad_err1  \\\n",
       "3008  ...           0.048          -0.104     0.867          0.134   \n",
       "\n",
       "      koi_srad_err2        ra_str       dec_str  koi_kepmag  koi_kepmag_err  \\\n",
       "3008         -0.077  19h50m41.43s  +48d18m08.3s      14.687             NaN   \n",
       "\n",
       "      target_label  \n",
       "3008          1396  \n",
       "\n",
       "[1 rows x 51 columns]"
      ],
      "text/html": "<div>\n<style scoped>\n    .dataframe tbody tr th:only-of-type {\n        vertical-align: middle;\n    }\n\n    .dataframe tbody tr th {\n        vertical-align: top;\n    }\n\n    .dataframe thead th {\n        text-align: right;\n    }\n</style>\n<table border=\"1\" class=\"dataframe\">\n  <thead>\n    <tr style=\"text-align: right;\">\n      <th></th>\n      <th>kepid</th>\n      <th>kepoi_name</th>\n      <th>kepler_name</th>\n      <th>koi_disposition</th>\n      <th>koi_pdisposition</th>\n      <th>koi_score</th>\n      <th>koi_fpflag_nt</th>\n      <th>koi_fpflag_ss</th>\n      <th>koi_fpflag_co</th>\n      <th>koi_fpflag_ec</th>\n      <th>...</th>\n      <th>koi_slogg_err1</th>\n      <th>koi_slogg_err2</th>\n      <th>koi_srad</th>\n      <th>koi_srad_err1</th>\n      <th>koi_srad_err2</th>\n      <th>ra_str</th>\n      <th>dec_str</th>\n      <th>koi_kepmag</th>\n      <th>koi_kepmag_err</th>\n      <th>target_label</th>\n    </tr>\n  </thead>\n  <tbody>\n    <tr>\n      <th>3008</th>\n      <td>10934674</td>\n      <td>K00477.01</td>\n      <td>Kepler-567 b</td>\n      <td>CONFIRMED</td>\n      <td>CANDIDATE</td>\n      <td>1.0</td>\n      <td>465</td>\n      <td>0</td>\n      <td>0</td>\n      <td>0</td>\n      <td>...</td>\n      <td>0.048</td>\n      <td>-0.104</td>\n      <td>0.867</td>\n      <td>0.134</td>\n      <td>-0.077</td>\n      <td>19h50m41.43s</td>\n      <td>+48d18m08.3s</td>\n      <td>14.687</td>\n      <td>NaN</td>\n      <td>1396</td>\n    </tr>\n  </tbody>\n</table>\n<p>1 rows × 51 columns</p>\n</div>"
     },
     "metadata": {},
     "execution_count": 82
    }
   ],
   "source": [
    "KOI_intermediate[KOI_intermediate['target_label'] == 1396]"
   ]
  },
  {
   "cell_type": "code",
   "execution_count": 83,
   "metadata": {},
   "outputs": [],
   "source": [
    "KOI_intermediate.loc[KOI_intermediate['target_label'] == 1396, 'target_label'] = 1"
   ]
  },
  {
   "cell_type": "code",
   "execution_count": 84,
   "metadata": {},
   "outputs": [],
   "source": [
    "KOI_intermediate.loc[KOI_intermediate['koi_fpflag_nt'] == 465, 'koi_fpflag_nt'] = 0"
   ]
  },
  {
   "cell_type": "code",
   "execution_count": 85,
   "metadata": {},
   "outputs": [
    {
     "output_type": "execute_result",
     "data": {
      "text/plain": [
       "1    2342\n",
       "2    2194\n",
       "3    1525\n",
       "Name: target_label, dtype: int64"
      ]
     },
     "metadata": {},
     "execution_count": 85
    }
   ],
   "source": [
    "KOI_intermediate['target_label'].value_counts()"
   ]
  },
  {
   "source": [
    "### Taking subset of dataframe and data cleanup"
   ],
   "cell_type": "markdown",
   "metadata": {}
  },
  {
   "cell_type": "code",
   "execution_count": 86,
   "metadata": {},
   "outputs": [
    {
     "output_type": "stream",
     "name": "stdout",
     "text": [
      "<class 'pandas.core.frame.DataFrame'>\nInt64Index: 6061 entries, 0 to 9559\nData columns (total 51 columns):\n #   Column             Non-Null Count  Dtype  \n---  ------             --------------  -----  \n 0   kepid              6061 non-null   int64  \n 1   kepoi_name         6061 non-null   object \n 2   kepler_name        2357 non-null   object \n 3   koi_disposition    6061 non-null   object \n 4   koi_pdisposition   6061 non-null   object \n 5   koi_score          5337 non-null   float64\n 6   koi_fpflag_nt      6061 non-null   int64  \n 7   koi_fpflag_ss      6061 non-null   int64  \n 8   koi_fpflag_co      6061 non-null   int64  \n 9   koi_fpflag_ec      6061 non-null   int64  \n 10  koi_period         6061 non-null   float64\n 11  koi_period_err1    5813 non-null   float64\n 12  koi_period_err2    5813 non-null   float64\n 13  koi_time0bk        6061 non-null   float64\n 14  koi_time0bk_err1   5813 non-null   float64\n 15  koi_time0bk_err2   5813 non-null   float64\n 16  koi_impact         5865 non-null   float64\n 17  koi_impact_err1    5813 non-null   float64\n 18  koi_impact_err2    5813 non-null   float64\n 19  koi_duration       6061 non-null   float64\n 20  koi_duration_err1  5813 non-null   float64\n 21  koi_duration_err2  5813 non-null   float64\n 22  koi_depth          5865 non-null   float64\n 23  koi_depth_err1     5813 non-null   float64\n 24  koi_depth_err2     5813 non-null   float64\n 25  koi_prad           5865 non-null   float64\n 26  koi_prad_err1      5865 non-null   float64\n 27  koi_prad_err2      5865 non-null   float64\n 28  koi_teq            5865 non-null   float64\n 29  koi_teq_err1       0 non-null      float64\n 30  koi_teq_err2       0 non-null      float64\n 31  koi_insol          5903 non-null   float64\n 32  koi_insol_err1     5903 non-null   float64\n 33  koi_insol_err2     5903 non-null   float64\n 34  koi_model_snr      5865 non-null   float64\n 35  koi_tce_plnt_num   5882 non-null   float64\n 36  koi_tce_delivname  5882 non-null   object \n 37  koi_steff          5865 non-null   float64\n 38  koi_steff_err1     5783 non-null   float64\n 39  koi_steff_err2     5768 non-null   float64\n 40  koi_slogg          5865 non-null   float64\n 41  koi_slogg_err1     5783 non-null   float64\n 42  koi_slogg_err2     5783 non-null   float64\n 43  koi_srad           5865 non-null   float64\n 44  koi_srad_err1      5783 non-null   float64\n 45  koi_srad_err2      5783 non-null   float64\n 46  ra_str             6061 non-null   object \n 47  dec_str            6061 non-null   object \n 48  koi_kepmag         6060 non-null   float64\n 49  koi_kepmag_err     0 non-null      float64\n 50  target_label       6061 non-null   int64  \ndtypes: float64(38), int64(6), object(7)\nmemory usage: 2.4+ MB\n"
     ]
    }
   ],
   "source": [
    "KOI_intermediate.info()"
   ]
  },
  {
   "source": [
    "#### The kepid and koi_tce_plnt_num are the Kepler Input Catalog ID (corresponding to a given star) and TCE number used to index light curves in the Kepler data validation pipeline. We'll use these indices to extract features from the light curve time series via a custom built class (KOI_class). Thus these are our indices."
   ],
   "cell_type": "markdown",
   "metadata": {}
  },
  {
   "source": [
    "#### Feature that is extracted from Kepler's data validation automated statistical testing is the koi_period. Keep this. Also keep koi_depth and koi_duration which are the depth and duration of the primary transit event. Other columns have to do with stellar parameters (e.g. koi_steff, stellar coordinates, etc) not gained directly from light curves as opposed to spectroscopy as well as parameters fit assuming the TCE was a planet. Let's drop all of those."
   ],
   "cell_type": "markdown",
   "metadata": {}
  },
  {
   "cell_type": "code",
   "execution_count": 87,
   "metadata": {},
   "outputs": [
    {
     "output_type": "stream",
     "name": "stdout",
     "text": [
      "<class 'pandas.core.frame.DataFrame'>\nInt64Index: 6061 entries, 0 to 9559\nData columns (total 6 columns):\n #   Column            Non-Null Count  Dtype  \n---  ------            --------------  -----  \n 0   kepid             6061 non-null   int64  \n 1   koi_tce_plnt_num  5882 non-null   float64\n 2   koi_period        6061 non-null   float64\n 3   koi_depth         5865 non-null   float64\n 4   koi_duration      6061 non-null   float64\n 5   target_label      6061 non-null   int64  \ndtypes: float64(4), int64(2)\nmemory usage: 331.5 KB\n"
     ]
    }
   ],
   "source": [
    "cols_to_keep = ['kepid', 'koi_tce_plnt_num', 'koi_period', 'koi_depth', 'koi_duration', 'target_label']\n",
    "KOI_cumulative = KOI_intermediate[cols_to_keep]\n",
    "KOI_cumulative.info()"
   ]
  },
  {
   "source": [
    "Take care of any remaining NaNs"
   ],
   "cell_type": "markdown",
   "metadata": {}
  },
  {
   "cell_type": "code",
   "execution_count": 88,
   "metadata": {},
   "outputs": [
    {
     "output_type": "stream",
     "name": "stdout",
     "text": [
      "<class 'pandas.core.frame.DataFrame'>\nInt64Index: 5707 entries, 0 to 9559\nData columns (total 6 columns):\n #   Column            Non-Null Count  Dtype  \n---  ------            --------------  -----  \n 0   kepid             5707 non-null   int64  \n 1   koi_tce_plnt_num  5707 non-null   float64\n 2   koi_period        5707 non-null   float64\n 3   koi_depth         5707 non-null   float64\n 4   koi_duration      5707 non-null   float64\n 5   target_label      5707 non-null   int64  \ndtypes: float64(4), int64(2)\nmemory usage: 312.1 KB\n"
     ]
    }
   ],
   "source": [
    "KOI_cumulative = KOI_cumulative.dropna(how = 'any')\n",
    "KOI_cumulative.info()"
   ]
  },
  {
   "cell_type": "code",
   "execution_count": 89,
   "metadata": {},
   "outputs": [
    {
     "output_type": "execute_result",
     "data": {
      "text/plain": [
       "      kepid  koi_tce_plnt_num  koi_period  koi_depth  koi_duration  \\\n",
       "0  10797460               1.0    9.488036      615.8       2.95750   \n",
       "1  10797460               2.0   54.418383      874.8       4.50700   \n",
       "3  10848459               1.0    1.736952     8079.2       2.40641   \n",
       "4  10854555               1.0    2.525592      603.3       1.65450   \n",
       "5  10872983               1.0   11.094321     1517.5       4.59450   \n",
       "\n",
       "   target_label  \n",
       "0             1  \n",
       "1             1  \n",
       "3             2  \n",
       "4             1  \n",
       "5             1  "
      ],
      "text/html": "<div>\n<style scoped>\n    .dataframe tbody tr th:only-of-type {\n        vertical-align: middle;\n    }\n\n    .dataframe tbody tr th {\n        vertical-align: top;\n    }\n\n    .dataframe thead th {\n        text-align: right;\n    }\n</style>\n<table border=\"1\" class=\"dataframe\">\n  <thead>\n    <tr style=\"text-align: right;\">\n      <th></th>\n      <th>kepid</th>\n      <th>koi_tce_plnt_num</th>\n      <th>koi_period</th>\n      <th>koi_depth</th>\n      <th>koi_duration</th>\n      <th>target_label</th>\n    </tr>\n  </thead>\n  <tbody>\n    <tr>\n      <th>0</th>\n      <td>10797460</td>\n      <td>1.0</td>\n      <td>9.488036</td>\n      <td>615.8</td>\n      <td>2.95750</td>\n      <td>1</td>\n    </tr>\n    <tr>\n      <th>1</th>\n      <td>10797460</td>\n      <td>2.0</td>\n      <td>54.418383</td>\n      <td>874.8</td>\n      <td>4.50700</td>\n      <td>1</td>\n    </tr>\n    <tr>\n      <th>3</th>\n      <td>10848459</td>\n      <td>1.0</td>\n      <td>1.736952</td>\n      <td>8079.2</td>\n      <td>2.40641</td>\n      <td>2</td>\n    </tr>\n    <tr>\n      <th>4</th>\n      <td>10854555</td>\n      <td>1.0</td>\n      <td>2.525592</td>\n      <td>603.3</td>\n      <td>1.65450</td>\n      <td>1</td>\n    </tr>\n    <tr>\n      <th>5</th>\n      <td>10872983</td>\n      <td>1.0</td>\n      <td>11.094321</td>\n      <td>1517.5</td>\n      <td>4.59450</td>\n      <td>1</td>\n    </tr>\n  </tbody>\n</table>\n</div>"
     },
     "metadata": {},
     "execution_count": 89
    }
   ],
   "source": [
    "KOI_cumulative.head()"
   ]
  },
  {
   "source": [
    "#### Finish up cleaning on KOI_cumulatve: data types, relabel columns"
   ],
   "cell_type": "markdown",
   "metadata": {}
  },
  {
   "source": [
    "Still good amount in each class after clean up"
   ],
   "cell_type": "markdown",
   "metadata": {}
  },
  {
   "cell_type": "code",
   "execution_count": 90,
   "metadata": {},
   "outputs": [
    {
     "output_type": "execute_result",
     "data": {
      "text/plain": [
       "1    2335\n",
       "2    2173\n",
       "3    1199\n",
       "Name: target_label, dtype: int64"
      ]
     },
     "metadata": {},
     "execution_count": 90
    }
   ],
   "source": [
    "KOI_cumulative['target_label'].value_counts()"
   ]
  },
  {
   "source": [
    "The values for koi_tce_plnt_num are clearly integers...but are interpreted as floats. change dtype to int"
   ],
   "cell_type": "markdown",
   "metadata": {}
  },
  {
   "cell_type": "code",
   "execution_count": 91,
   "metadata": {},
   "outputs": [
    {
     "output_type": "execute_result",
     "data": {
      "text/plain": [
       "array([1., 2., 3., 4., 5., 6., 7., 8.])"
      ]
     },
     "metadata": {},
     "execution_count": 91
    }
   ],
   "source": [
    "KOI_cumulative['koi_tce_plnt_num'].unique()"
   ]
  },
  {
   "cell_type": "code",
   "execution_count": 92,
   "metadata": {},
   "outputs": [
    {
     "output_type": "stream",
     "name": "stdout",
     "text": [
      "int32\n[1 2 3 4 5 6 7 8]\n"
     ]
    }
   ],
   "source": [
    "KOI_cumulative['koi_tce_plnt_num'] = KOI_cumulative['koi_tce_plnt_num'].astype('int')\n",
    "print(KOI_cumulative['koi_tce_plnt_num'].dtype)\n",
    "print(KOI_cumulative['koi_tce_plnt_num'].unique())"
   ]
  },
  {
   "source": [
    "Rename columns"
   ],
   "cell_type": "markdown",
   "metadata": {}
  },
  {
   "cell_type": "code",
   "execution_count": 93,
   "metadata": {},
   "outputs": [
    {
     "output_type": "execute_result",
     "data": {
      "text/plain": [
       "Index(['kepid', 'koi_tce_plnt_num', 'koi_period', 'koi_depth', 'koi_duration',\n",
       "       'target_label'],\n",
       "      dtype='object')"
      ]
     },
     "metadata": {},
     "execution_count": 93
    }
   ],
   "source": [
    "KOI_cumulative.columns"
   ]
  },
  {
   "cell_type": "code",
   "execution_count": 94,
   "metadata": {},
   "outputs": [],
   "source": [
    "KOI_cumulative = KOI_cumulative.rename(columns={'kepid': 'KIC_ID', 'koi_tce_plnt_num': 'TCE_num', 'koi_period': 'Period', 'koi_depth': 'Depth', 'koi_duration': 'Duration'})"
   ]
  },
  {
   "source": [
    "### II. Light Curve Time Series Download"
   ],
   "cell_type": "markdown",
   "metadata": {}
  },
  {
   "cell_type": "code",
   "execution_count": 95,
   "metadata": {},
   "outputs": [
    {
     "output_type": "execute_result",
     "data": {
      "text/plain": [
       "                     Period    Depth  Duration  target_label\n",
       "KIC_ID  TCE_num                                             \n",
       "757450  1          8.884923  16053.4   2.07004             1\n",
       "1026032 1          8.460439  76412.9   4.73492             2\n",
       "1161949 1        473.951030    330.6  11.77800             3\n",
       "1293031 1          0.539366    145.0   5.43400             3\n",
       "1297263 1        153.521361    255.2   3.89300             3"
      ],
      "text/html": "<div>\n<style scoped>\n    .dataframe tbody tr th:only-of-type {\n        vertical-align: middle;\n    }\n\n    .dataframe tbody tr th {\n        vertical-align: top;\n    }\n\n    .dataframe thead th {\n        text-align: right;\n    }\n</style>\n<table border=\"1\" class=\"dataframe\">\n  <thead>\n    <tr style=\"text-align: right;\">\n      <th></th>\n      <th></th>\n      <th>Period</th>\n      <th>Depth</th>\n      <th>Duration</th>\n      <th>target_label</th>\n    </tr>\n    <tr>\n      <th>KIC_ID</th>\n      <th>TCE_num</th>\n      <th></th>\n      <th></th>\n      <th></th>\n      <th></th>\n    </tr>\n  </thead>\n  <tbody>\n    <tr>\n      <th>757450</th>\n      <th>1</th>\n      <td>8.884923</td>\n      <td>16053.4</td>\n      <td>2.07004</td>\n      <td>1</td>\n    </tr>\n    <tr>\n      <th>1026032</th>\n      <th>1</th>\n      <td>8.460439</td>\n      <td>76412.9</td>\n      <td>4.73492</td>\n      <td>2</td>\n    </tr>\n    <tr>\n      <th>1161949</th>\n      <th>1</th>\n      <td>473.951030</td>\n      <td>330.6</td>\n      <td>11.77800</td>\n      <td>3</td>\n    </tr>\n    <tr>\n      <th>1293031</th>\n      <th>1</th>\n      <td>0.539366</td>\n      <td>145.0</td>\n      <td>5.43400</td>\n      <td>3</td>\n    </tr>\n    <tr>\n      <th>1297263</th>\n      <th>1</th>\n      <td>153.521361</td>\n      <td>255.2</td>\n      <td>3.89300</td>\n      <td>3</td>\n    </tr>\n  </tbody>\n</table>\n</div>"
     },
     "metadata": {},
     "execution_count": 95
    }
   ],
   "source": [
    "KOI_cumulative = KOI_cumulative.set_index(['KIC_ID', 'TCE_num']).sort_index()\n",
    "KOI_cumulative.head()"
   ]
  },
  {
   "cell_type": "code",
   "execution_count": 96,
   "metadata": {},
   "outputs": [],
   "source": [
    "kic_tcenum_index = KOI_cumulative.index # generates 2-tuple Multindex"
   ]
  },
  {
   "cell_type": "code",
   "execution_count": 37,
   "metadata": {},
   "outputs": [],
   "source": [
    "from KOIclass import KOIObject # loads custom library to take care of API requests, extracting the data, download, and logging"
   ]
  },
  {
   "source": [
    "### WARNING! This next command can take some time as there's about 26 GB of data to be downloaded to the local file system.\n",
    "\n",
    "#### The download is necessary as the main speed bottleneck in transforming the data and feature creation would be in actually loading it remotely via API requests. \n",
    "\n",
    "#### Some KIC ID/TCEs that exist in the kepler input catalog don't have data in the data validation pipeline. These are, when they do happen, almost always non-transiting phenomena. We don't save a file for these offending TCEs and instead log the KIC and TCE in the download.log file."
   ],
   "cell_type": "markdown",
   "metadata": {}
  },
  {
   "cell_type": "code",
   "execution_count": 42,
   "metadata": {},
   "outputs": [
    {
     "output_type": "execute_result",
     "data": {
      "text/plain": [
       "Index([None, None, None, None, None, None, None, None, None, None,\n",
       "       ...\n",
       "       None, None, None, None, None, None, None, None, None, None],\n",
       "      dtype='object', length=5707)"
      ]
     },
     "metadata": {},
     "execution_count": 42
    }
   ],
   "source": [
    "kic_tcenum_index.map(lambda x: KOIObject(x[0], x[1]).download_data() )"
   ]
  },
  {
   "source": [
    "### Remove all KICs with empty data in data validation from Kepler cumulative table."
   ],
   "cell_type": "markdown",
   "metadata": {}
  },
  {
   "cell_type": "code",
   "execution_count": 110,
   "metadata": {},
   "outputs": [
    {
     "output_type": "stream",
     "name": "stdout",
     "text": [
      "[(1161949, 1), (1297263, 1), (1433531, 1), (2163226, 1), (2305311, 1)]\n"
     ]
    }
   ],
   "source": [
    "logfile_path = \"..\\\\data\\\\external\\\\DVSeries\\\\download.log\"\n",
    "emptydvdata_list = []\n",
    "with open(logfile_path) as f:\n",
    "    for x in f.readlines():\n",
    "        kicstring, tcenumstring = x.strip().split(\":\")[2].split('_')\n",
    "        emptydvdata_list.append((int(kicstring), int(tcenumstring)))\n",
    "print(emptydvdata_list[0:5])"
   ]
  },
  {
   "source": [
    "#### There are 365 entries in KOI_cumulative that have no data in the data validation pipeline."
   ],
   "cell_type": "markdown",
   "metadata": {}
  },
  {
   "cell_type": "code",
   "execution_count": 116,
   "metadata": {},
   "outputs": [
    {
     "output_type": "execute_result",
     "data": {
      "text/plain": [
       "                     Period  Depth  Duration  target_label\n",
       "KIC_ID  TCE_num                                           \n",
       "1161949 1        473.951030  330.6    11.778             3\n",
       "1297263 1        153.521361  255.2     3.893             3\n",
       "1433531 1        567.713290  259.4    12.850             3\n",
       "2163226 1        452.100930  464.0    12.690             3\n",
       "2305311 1          1.404674  155.5     5.056             3"
      ],
      "text/html": "<div>\n<style scoped>\n    .dataframe tbody tr th:only-of-type {\n        vertical-align: middle;\n    }\n\n    .dataframe tbody tr th {\n        vertical-align: top;\n    }\n\n    .dataframe thead th {\n        text-align: right;\n    }\n</style>\n<table border=\"1\" class=\"dataframe\">\n  <thead>\n    <tr style=\"text-align: right;\">\n      <th></th>\n      <th></th>\n      <th>Period</th>\n      <th>Depth</th>\n      <th>Duration</th>\n      <th>target_label</th>\n    </tr>\n    <tr>\n      <th>KIC_ID</th>\n      <th>TCE_num</th>\n      <th></th>\n      <th></th>\n      <th></th>\n      <th></th>\n    </tr>\n  </thead>\n  <tbody>\n    <tr>\n      <th>1161949</th>\n      <th>1</th>\n      <td>473.951030</td>\n      <td>330.6</td>\n      <td>11.778</td>\n      <td>3</td>\n    </tr>\n    <tr>\n      <th>1297263</th>\n      <th>1</th>\n      <td>153.521361</td>\n      <td>255.2</td>\n      <td>3.893</td>\n      <td>3</td>\n    </tr>\n    <tr>\n      <th>1433531</th>\n      <th>1</th>\n      <td>567.713290</td>\n      <td>259.4</td>\n      <td>12.850</td>\n      <td>3</td>\n    </tr>\n    <tr>\n      <th>2163226</th>\n      <th>1</th>\n      <td>452.100930</td>\n      <td>464.0</td>\n      <td>12.690</td>\n      <td>3</td>\n    </tr>\n    <tr>\n      <th>2305311</th>\n      <th>1</th>\n      <td>1.404674</td>\n      <td>155.5</td>\n      <td>5.056</td>\n      <td>3</td>\n    </tr>\n  </tbody>\n</table>\n</div>"
     },
     "metadata": {},
     "execution_count": 116
    }
   ],
   "source": [
    "KOI_cumulative.loc[emptydvdata_list].head()"
   ]
  },
  {
   "source": [
    "#### Mostly non-transiting, but there are some secondary eclipses / confirmed planets missing in the data validation pipeline"
   ],
   "cell_type": "markdown",
   "metadata": {}
  },
  {
   "cell_type": "code",
   "execution_count": 118,
   "metadata": {},
   "outputs": [
    {
     "output_type": "execute_result",
     "data": {
      "text/plain": [
       "3    329\n",
       "2     34\n",
       "1      2\n",
       "Name: target_label, dtype: int64"
      ]
     },
     "metadata": {},
     "execution_count": 118
    }
   ],
   "source": [
    "KOI_cumulative.loc[emptydvdata_list]['target_label'].value_counts()"
   ]
  },
  {
   "source": [
    "#### Drop all of these from the cumulative table then save to file."
   ],
   "cell_type": "markdown",
   "metadata": {}
  },
  {
   "cell_type": "code",
   "execution_count": 120,
   "metadata": {},
   "outputs": [],
   "source": [
    "KOI_cumulative = KOI_cumulative.drop(index=emptydvdata_list)"
   ]
  },
  {
   "source": [
    "#### There are quite a bit fewer non transiting phenomena in our set than the other two classes...but it may be alright."
   ],
   "cell_type": "markdown",
   "metadata": {}
  },
  {
   "cell_type": "code",
   "execution_count": 122,
   "metadata": {},
   "outputs": [
    {
     "output_type": "execute_result",
     "data": {
      "text/plain": [
       "1    2333\n",
       "2    2140\n",
       "3     880\n",
       "Name: target_label, dtype: int64"
      ]
     },
     "metadata": {},
     "execution_count": 122
    }
   ],
   "source": [
    "KOI_cumulative['target_label'].value_counts()"
   ]
  },
  {
   "cell_type": "code",
   "execution_count": 121,
   "metadata": {},
   "outputs": [],
   "source": [
    "KOI_cumulative.to_csv('..\\\\data\\\\external\\\\KOI_cumulative.csv', sep=\",\")"
   ]
  },
  {
   "source": [],
   "cell_type": "markdown",
   "metadata": {}
  },
  {
   "cell_type": "raw",
   "id": "recovered-clock",
   "metadata": {},
   "source": []
  }
 ],
 "metadata": {
  "kernelspec": {
   "name": "python3",
   "display_name": "Python 3.8.5 64-bit ('base': conda)"
  },
  "language_info": {
   "codemirror_mode": {
    "name": "ipython",
    "version": 3
   },
   "file_extension": ".py",
   "mimetype": "text/x-python",
   "name": "python",
   "nbconvert_exporter": "python",
   "pygments_lexer": "ipython3",
   "version": "3.8.5"
  },
  "interpreter": {
   "hash": "c973c0f3b75d278258c98f27af521ba2a5a3f33703eb568891dedf9795a850f8"
  }
 },
 "nbformat": 4,
 "nbformat_minor": 5
}