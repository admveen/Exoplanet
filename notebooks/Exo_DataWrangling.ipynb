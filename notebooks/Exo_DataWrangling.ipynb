{
 "cells": [
  {
   "cell_type": "code",
   "execution_count": 64,
   "id": "accompanied-exception",
   "metadata": {},
   "outputs": [],
   "source": [
    "\n",
    "#standard data wrangling packages\n",
    "import pandas as pd\n",
    "import numpy as np\n",
    "import matplotlib.pyplot as plt\n",
    "\n",
    "import requests\n",
    "\n",
    "import os\n",
    "import os.path\n"
   ]
  },
  {
   "cell_type": "markdown",
   "id": "norman-potato",
   "metadata": {},
   "source": [
    "#### ExoFOP contains a list of TESS Objects of Interest (TOI). These index highly promising exoplanet candidates gained from TESS light curve data that will require other methods to determine whether the object is a confirmed exoplanet or not."
   ]
  },
  {
   "cell_type": "code",
   "execution_count": 3,
   "id": "major-water",
   "metadata": {},
   "outputs": [],
   "source": [
    "exofop_TOI_url = \"https://exofop.ipac.caltech.edu/tess/download_toi.php?sort=toi&output=csv\""
   ]
  },
  {
   "cell_type": "code",
   "execution_count": 4,
   "id": "alike-china",
   "metadata": {},
   "outputs": [],
   "source": [
    "TOI_data = pd.read_csv(exofop_TOI_url, delimiter = ',')"
   ]
  },
  {
   "cell_type": "code",
   "execution_count": 5,
   "id": "compliant-connection",
   "metadata": {},
   "outputs": [
    {
     "data": {
      "text/plain": [
       "Index(['TIC ID', 'TOI', 'Previous CTOI', 'Master', 'SG1A', 'SG1B', 'SG2',\n",
       "       'SG3', 'SG4', 'SG5', 'ACWG', 'TESS Disposition', 'TFOPWG Disposition',\n",
       "       'TESS Mag', 'TESS Mag err', 'Planet Name', 'Pipeline Signal ID',\n",
       "       'Source', 'RA', 'Dec', 'PM RA (mas/yr)', 'PM RA err (mas/yr)',\n",
       "       'PM Dec (mas/yr)', 'PM Dec err (mas/yr)', 'Epoch (BJD)',\n",
       "       'Epoch (BJD) err', 'Period (days)', 'Period (days) err',\n",
       "       'Duration (hours)', 'Duration (hours) err', 'Depth (mmag)',\n",
       "       'Depth (mmag) err', 'Depth (ppm)', 'Depth (ppm) err',\n",
       "       'Planet Radius (R_Earth)', 'Planet Radius (R_Earth) err',\n",
       "       'Planet Insolation (Earth Flux)', 'Planet Equil Temp (K)', 'Planet SNR',\n",
       "       'Stellar Distance (pc)', 'Stellar Distance (pc) err',\n",
       "       'Stellar Eff Temp (K)', 'Stellar Eff Temp (K) err',\n",
       "       'Stellar log(g) (cm/s^2)', 'Stellar log(g) (cm/s^2) err',\n",
       "       'Stellar Radius (R_Sun)', 'Stellar Radius (R_Sun) err',\n",
       "       'Stellar Metallicity', ' Stellar Metallicity err', 'Sectors',\n",
       "       'Date TOI Alerted (UTC)', 'Date TOI Updated (UTC)', 'Date Modified',\n",
       "       'Comments'],\n",
       "      dtype='object')"
      ]
     },
     "execution_count": 5,
     "metadata": {},
     "output_type": "execute_result"
    }
   ],
   "source": [
    "TOI_data.columns"
   ]
  },
  {
   "cell_type": "code",
   "execution_count": 6,
   "id": "champion-harassment",
   "metadata": {},
   "outputs": [
    {
     "data": {
      "text/plain": [
       "(2542, 54)"
      ]
     },
     "execution_count": 6,
     "metadata": {},
     "output_type": "execute_result"
    }
   ],
   "source": [
    "TOI_data.shape"
   ]
  },
  {
   "cell_type": "code",
   "execution_count": 7,
   "id": "heavy-scotland",
   "metadata": {},
   "outputs": [
    {
     "name": "stdout",
     "output_type": "stream",
     "text": [
      "<class 'pandas.core.frame.DataFrame'>\n",
      "RangeIndex: 2542 entries, 0 to 2541\n",
      "Data columns (total 54 columns):\n",
      " #   Column                          Non-Null Count  Dtype  \n",
      "---  ------                          --------------  -----  \n",
      " 0   TIC ID                          2542 non-null   int64  \n",
      " 1   TOI                             2542 non-null   float64\n",
      " 2   Previous CTOI                   207 non-null    object \n",
      " 3   Master                          2542 non-null   int64  \n",
      " 4   SG1A                            2542 non-null   int64  \n",
      " 5   SG1B                            2542 non-null   int64  \n",
      " 6   SG2                             2542 non-null   int64  \n",
      " 7   SG3                             2542 non-null   int64  \n",
      " 8   SG4                             2542 non-null   int64  \n",
      " 9   SG5                             2542 non-null   int64  \n",
      " 10  ACWG                            2542 non-null   int64  \n",
      " 11  TESS Disposition                2542 non-null   object \n",
      " 12  TFOPWG Disposition              2535 non-null   object \n",
      " 13  TESS Mag                        2542 non-null   float64\n",
      " 14  TESS Mag err                    2542 non-null   float64\n",
      " 15  Planet Name                     0 non-null      float64\n",
      " 16  Pipeline Signal ID              2542 non-null   int64  \n",
      " 17  Source                          2542 non-null   object \n",
      " 18  RA                              2542 non-null   object \n",
      " 19  Dec                             2542 non-null   object \n",
      " 20  PM RA (mas/yr)                  2526 non-null   float64\n",
      " 21  PM RA err (mas/yr)              2526 non-null   float64\n",
      " 22  PM Dec (mas/yr)                 2526 non-null   float64\n",
      " 23  PM Dec err (mas/yr)             2526 non-null   float64\n",
      " 24  Epoch (BJD)                     2542 non-null   float64\n",
      " 25  Epoch (BJD) err                 2542 non-null   float64\n",
      " 26  Period (days)                   2542 non-null   float64\n",
      " 27  Period (days) err               2542 non-null   float64\n",
      " 28  Duration (hours)                2542 non-null   float64\n",
      " 29  Duration (hours) err            2535 non-null   float64\n",
      " 30  Depth (mmag)                    2542 non-null   float64\n",
      " 31  Depth (mmag) err                2528 non-null   float64\n",
      " 32  Depth (ppm)                     2542 non-null   float64\n",
      " 33  Depth (ppm) err                 2528 non-null   float64\n",
      " 34  Planet Radius (R_Earth)         2410 non-null   float64\n",
      " 35  Planet Radius (R_Earth) err     2280 non-null   float64\n",
      " 36  Planet Insolation (Earth Flux)  2411 non-null   float64\n",
      " 37  Planet Equil Temp (K)           2378 non-null   float64\n",
      " 38  Planet SNR                      2541 non-null   float64\n",
      " 39  Stellar Distance (pc)           2492 non-null   float64\n",
      " 40  Stellar Distance (pc) err       2373 non-null   float64\n",
      " 41  Stellar Eff Temp (K)            2506 non-null   float64\n",
      " 42  Stellar Eff Temp (K) err        2315 non-null   float64\n",
      " 43  Stellar log(g) (cm/s^2)         2297 non-null   float64\n",
      " 44  Stellar log(g) (cm/s^2) err     2009 non-null   float64\n",
      " 45  Stellar Radius (R_Sun)          2409 non-null   float64\n",
      " 46  Stellar Radius (R_Sun) err      2139 non-null   float64\n",
      " 47  Stellar Metallicity             470 non-null    float64\n",
      " 48   Stellar Metallicity err        470 non-null    float64\n",
      " 49  Sectors                         2542 non-null   object \n",
      " 50  Date TOI Alerted (UTC)          2542 non-null   object \n",
      " 51  Date TOI Updated (UTC)          2542 non-null   object \n",
      " 52  Date Modified                   2542 non-null   object \n",
      " 53  Comments                        2122 non-null   object \n",
      "dtypes: float64(33), int64(10), object(11)\n",
      "memory usage: 1.0+ MB\n"
     ]
    }
   ],
   "source": [
    "TOI_data.info()"
   ]
  },
  {
   "cell_type": "code",
   "execution_count": 8,
   "id": "brazilian-thinking",
   "metadata": {},
   "outputs": [
    {
     "data": {
      "text/plain": [
       "'27'"
      ]
     },
     "execution_count": 8,
     "metadata": {},
     "output_type": "execute_result"
    }
   ],
   "source": [
    "TOI_data.loc[0, 'Sectors']"
   ]
  },
  {
   "cell_type": "markdown",
   "id": "painful-marriage",
   "metadata": {},
   "source": [
    "There is a lot of stuff going on here. TIC ID is an important identifier. It stands for Tess Input Catalog ID. The TESS Input Catalog is essentially a list of all possible stellar targets for TESS to target. The TOIs are a tiny fraction of the entire TIC but the TIC ID could be potentially useful for directly extracting light curve data from the star that the TOI was identified from. There are some other important data attributes here. The TFOPWG Disposition labels are:"
   ]
  },
  {
   "cell_type": "code",
   "execution_count": 9,
   "id": "accomplished-exhibition",
   "metadata": {},
   "outputs": [
    {
     "data": {
      "text/plain": [
       "array(['KP', 'CP', 'PC', 'APC', 'FA', 'FP', nan], dtype=object)"
      ]
     },
     "execution_count": 9,
     "metadata": {},
     "output_type": "execute_result"
    }
   ],
   "source": [
    "TOI_data['TFOPWG Disposition'].unique()"
   ]
  },
  {
   "cell_type": "markdown",
   "id": "copyrighted-contrast",
   "metadata": {},
   "source": [
    "KP corresponds to a Known Planet.\n",
    "CP correponds to a Confirmed Planet.\n",
    "FP corresponds to a False Positive."
   ]
  },
  {
   "cell_type": "markdown",
   "id": "automotive-skirt",
   "metadata": {},
   "source": [
    "False positives occur routinely due to the limited resolution and large field of view of the TESS telescopes. Thus many other astrophysical objects can cause periodically modulate the light from a given star. One example is the scenario where you are actually looking at a binary star system which happens to be an eclipsing binary system from our point of view. Many of these false positives have certain time series signatures that distinguish them from a real planet transit."
   ]
  },
  {
   "cell_type": "code",
   "execution_count": 10,
   "id": "close-algeria",
   "metadata": {},
   "outputs": [
    {
     "data": {
      "text/plain": [
       "{'Planets': 285, 'False Positives': 467}"
      ]
     },
     "execution_count": 10,
     "metadata": {},
     "output_type": "execute_result"
    }
   ],
   "source": [
    "{'Planets': sum(TOI_data['TFOPWG Disposition'] == ('KP' or 'CP')), 'False Positives': sum(TOI_data['TFOPWG Disposition'] == 'FP')} "
   ]
  },
  {
   "cell_type": "markdown",
   "id": "portuguese-radar",
   "metadata": {},
   "source": [
    "Maybe these many instances are enough of a dataset for doing a binary classification on whether a given light curve corresponds to a likely planet or another type of astrophysical phenomenon. If not, we can join confirmed planet and false positive data from other missions like the Kepler2 (K2 mission). It might also be interesting to make this a multiclass problem by also including light curves that have no transits in them."
   ]
  },
  {
   "cell_type": "markdown",
   "id": "upset-monday",
   "metadata": {},
   "source": [
    "####  MAST (Mulkowski Archive for Space Telescopes) holds the data from many astronomical satellite missions in a form that is pretty well structured. We'll be accessing their data through their web API:"
   ]
  },
  {
   "cell_type": "code",
   "execution_count": 11,
   "id": "first-salon",
   "metadata": {},
   "outputs": [],
   "source": [
    "base_url = \"https://exo.mast.stsci.edu/api/v0.1/\"\n",
    "\n",
    "# data validation is a summary dataset for a TOI that has the best light curve/transition crossing event data and metadata in it.\n",
    "data_validation_url = base_url + \"dvdata/tess/\" "
   ]
  },
  {
   "cell_type": "code",
   "execution_count": 12,
   "id": "blond-promotion",
   "metadata": {},
   "outputs": [
    {
     "name": "stdout",
     "output_type": "stream",
     "text": [
      "336732616 KP\n"
     ]
    }
   ],
   "source": [
    "# in order to query a particular TOI we need to reference it with its TIC number. \n",
    "TICID0, class0 = (TOI_data.loc[2, 'TIC ID'], TOI_data.loc[2, 'TFOPWG Disposition'])\n",
    "print(TICID0, class0)\n",
    "# Known planet. We'll use this TIC ID for a request to the EXOMAST data validation API in order to get a list of time series:\n",
    "query_url = data_validation_url + str(TICID0) +'/tces'\n",
    "\n",
    "\n",
    "req = requests.get(query_url)\n",
    "sectortcelist = req.json()['TCE']"
   ]
  },
  {
   "cell_type": "code",
   "execution_count": 13,
   "id": "laughing-eleven",
   "metadata": {},
   "outputs": [
    {
     "data": {
      "text/plain": [
       "['s0001-s0001:TCE_1']"
      ]
     },
     "execution_count": 13,
     "metadata": {},
     "output_type": "execute_result"
    }
   ],
   "source": [
    "sectortcelist"
   ]
  },
  {
   "cell_type": "markdown",
   "id": "cooperative-difficulty",
   "metadata": {},
   "source": [
    "We'll always just pick the first light curve scan because that should be enough for a given candidate:"
   ]
  },
  {
   "cell_type": "code",
   "execution_count": 14,
   "id": "angry-groove",
   "metadata": {},
   "outputs": [],
   "source": [
    "def TESSget_sector_tce(sectortcelist):\n",
    "    sectortce = sectortcelist[0].split(':')\n",
    "    sector = sectortce[0]\n",
    "    TCE_num = sectortce[1].split('_')[1]\n",
    "    \n",
    "    return sector, TCE_num\n",
    "    "
   ]
  },
  {
   "cell_type": "code",
   "execution_count": 317,
   "id": "upper-devil",
   "metadata": {},
   "outputs": [],
   "source": [
    "sectors, TCEnumber = TESSget_sector_tce(sectortcelist)"
   ]
  },
  {
   "cell_type": "markdown",
   "id": "orange-links",
   "metadata": {},
   "source": [
    "Now we feed this into the API:"
   ]
  },
  {
   "cell_type": "code",
   "execution_count": 336,
   "id": "blond-keyboard",
   "metadata": {},
   "outputs": [],
   "source": [
    "lightcurve_request = data_validation_url + str(TICID0) + '/table/?tce=' + TCEnumber + '&sector='+sectors"
   ]
  },
  {
   "cell_type": "code",
   "execution_count": 367,
   "id": "demographic-hindu",
   "metadata": {},
   "outputs": [],
   "source": [
    "lcrequest = requests.get(lightcurve_request)\n",
    "lightcurve_json= lcrequest.json()\n"
   ]
  },
  {
   "cell_type": "code",
   "execution_count": 368,
   "id": "expired-report",
   "metadata": {},
   "outputs": [],
   "source": [
    "lightcurvedf = pd.DataFrame(lightcurve_json['data'])"
   ]
  },
  {
   "cell_type": "code",
   "execution_count": 369,
   "id": "rocky-constitutional",
   "metadata": {},
   "outputs": [
    {
     "data": {
      "text/plain": [
       "(20076, 15)"
      ]
     },
     "execution_count": 369,
     "metadata": {},
     "output_type": "execute_result"
    }
   ],
   "source": [
    "lightcurvedf.shape"
   ]
  },
  {
   "cell_type": "code",
   "execution_count": 372,
   "id": "sealed-routine",
   "metadata": {},
   "outputs": [
    {
     "data": {
      "text/plain": [
       "Index(['TICID', 'EXTNAME', 'TIME', 'TIMECORR', 'CADENCENO', 'PHASE', 'LC_INIT',\n",
       "       'LC_INIT_ERR', 'LC_WHITE', 'LC_DETREND', 'MODEL_INIT', 'MODEL_WHITE',\n",
       "       'DATE_OBS', 'TESSDatetime', 'SECTORS'],\n",
       "      dtype='object')"
      ]
     },
     "execution_count": 372,
     "metadata": {},
     "output_type": "execute_result"
    }
   ],
   "source": [
    "lightcurvedf.columns"
   ]
  },
  {
   "cell_type": "raw",
   "id": "recovered-clock",
   "metadata": {},
   "source": []
  },
  {
   "cell_type": "markdown",
   "id": "australian-delight",
   "metadata": {},
   "source": [
    "#### The detrended light curve vs time is what we are really interested in. The below plots the relative flux vs. Barycentric Time Julian Day. This time is often used in astrophysics and is the time as would be measured by a non-rotating observer at rest with the solar system's center of mass but far enough away from the bulk of the solar system to not experience time dilation from solar system gravity (i.e. clocks move slower near the sun than at the rim of the solar system)."
   ]
  },
  {
   "cell_type": "code",
   "execution_count": 387,
   "id": "specific-brooks",
   "metadata": {},
   "outputs": [
    {
     "data": {
      "text/plain": [
       "<matplotlib.collections.PathCollection at 0x1edf6380430>"
      ]
     },
     "execution_count": 387,
     "metadata": {},
     "output_type": "execute_result"
    },
    {
     "data": {
      "image/png": "[encoded data removed]",
      "text/plain": [
       "<Figure size 432x288 with 1 Axes>"
      ]
     },
     "metadata": {
      "needs_background": "light"
     },
     "output_type": "display_data"
    }
   ],
   "source": [
    "plt.scatter(lightcurvedf['TIME'], lightcurvedf['LC_DETREND'], marker = 'o', s = 10 )"
   ]
  },
  {
   "cell_type": "markdown",
   "id": "identical-afternoon",
   "metadata": {},
   "source": [
    "#### This is the light curve for the given TOI which has been classified as a planet. Note that there are NaNs in the series -- the most obvious being the one in the middle of the LC. These sorts of gaps are due to periods during which TESS is firing thrusters. There are also a whole bunch of single gaps in the data. There are many ways in which we could impute this data. For gaps involving a few time points, simple linear interpolation might be fine. But the larger gaps corresponding to TESS thruster fires might need to be imputed by sampling the power spectrum of the non-TCE part of the signal and filling in data sampled from that frequency distribution. In any case, we'll likely need to process these time series a bit more to make them amenable for any classification algorithms, but for now let's write a function that extracts light curves and tucks the messy API requests under the hood."
   ]
  },
  {
   "cell_type": "markdown",
   "id": "academic-brazil",
   "metadata": {},
   "source": [
    "Also will be helpful to save this data in local csv files with any additional data from the EXOFOP as a header"
   ]
  },
  {
   "cell_type": "code",
   "execution_count": 94,
   "id": "widespread-accounting",
   "metadata": {},
   "outputs": [],
   "source": [
    "def get_detrended_LC(TIC_ID):\n",
    "    # setting up API request path based on TIC ID\n",
    "    base_url = \"https://exo.mast.stsci.edu/api/v0.1/\"\n",
    "    data_validation_url = base_url + \"dvdata/tess/\" \n",
    "    query_url = query_url = data_validation_url + str(TIC_ID) +'/tces'\n",
    "    \n",
    "    #now we get the list of sectors/TCEs that were used to identify the light curve as a TOI\n",
    "    req = requests.get(query_url)\n",
    "    sectortcelist = req.json()['TCE']\n",
    "    \n",
    "    #we will just take the first TCE we can get from the list (in form 's0001-s0001:TCE_1')\n",
    "    sectortce = sectortcelist[0].split(':')\n",
    "    sector = sectortce[0] # extracts sector range for scan\n",
    "    TCE_num = sectortce[1].split('_')[1] #this just parses the TCE string to get the TCE number.\n",
    "    \n",
    "    lightcurve_request = data_validation_url + str(TIC_ID) + '/table/?tce=' + TCE_num + '&sector='+sector\n",
    "    \n",
    "    lcrequest = requests.get(lightcurve_request)\n",
    "    lightcurve_json= lcrequest.json()\n",
    "    \n",
    "    LC_detrended = pd.DataFrame(lightcurve_json['data'], columns = ['TIME', 'LC_DETREND'])\n",
    "    \n",
    "    save_path_directory = os.path.dirname(os.getcwd()) + '\\data\\\\raw\\\\'\n",
    "    filename = 'TC'+str(TIC_ID) + TCE_num + 'sector='+sector + \".csv\"\n",
    "    save_path = save_path_directory + filename\n",
    "    \n",
    "    LC_detrended.to_csv(save_path)\n",
    "    return LC_detrended\n",
    "    \n",
    "    "
   ]
  },
  {
   "cell_type": "code",
   "execution_count": 95,
   "id": "alike-patient",
   "metadata": {},
   "outputs": [],
   "source": [
    "h = get_detrended_LC(336732616)"
   ]
  },
  {
   "cell_type": "code",
   "execution_count": 36,
   "id": "unusual-mexican",
   "metadata": {
    "scrolled": true
   },
   "outputs": [
    {
     "data": {
      "text/plain": [
       "(20076, 2)"
      ]
     },
     "execution_count": 36,
     "metadata": {},
     "output_type": "execute_result"
    }
   ],
   "source": [
    "h.shape"
   ]
  },
  {
   "cell_type": "code",
   "execution_count": 96,
   "id": "greenhouse-netscape",
   "metadata": {},
   "outputs": [
    {
     "data": {
      "image/png": "[encoded data removed]",
      "text/plain": [
       "<Figure size 432x288 with 1 Axes>"
      ]
     },
     "metadata": {
      "needs_background": "light"
     },
     "output_type": "display_data"
    }
   ],
   "source": [
    "ax = h.plot(x = 'TIME', y = 'LC_DETREND', kind = 'scatter')\n",
    "ax.set_xlabel('Time [BTJD]')\n",
    "ax.set_ylabel('Relative Flux')\n",
    "plt.show()\n"
   ]
  },
  {
   "cell_type": "markdown",
   "id": "thick-combat",
   "metadata": {},
   "source": [
    "OK so far so good. Now, let's join this with data from the ExoFOP table so we can put label identifiers as headers. We can later reform and preprocess as required for the classication modeling that we want to do."
   ]
  },
  {
   "cell_type": "code",
   "execution_count": null,
   "id": "bottom-fraction",
   "metadata": {},
   "outputs": [],
   "source": []
  }
 ],
 "metadata": {
  "kernelspec": {
   "display_name": "Python [conda env:MLstandard] *",
   "language": "python",
   "name": "conda-env-MLstandard-py"
  },
  "language_info": {
   "codemirror_mode": {
    "name": "ipython",
    "version": 3
   },
   "file_extension": ".py",
   "mimetype": "text/x-python",
   "name": "python",
   "nbconvert_exporter": "python",
   "pygments_lexer": "ipython3",
   "version": "3.8.5"
  }
 },
 "nbformat": 4,
 "nbformat_minor": 5
}
