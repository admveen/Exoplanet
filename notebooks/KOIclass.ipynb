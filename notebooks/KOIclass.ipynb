{
 "metadata": {
  "language_info": {
   "codemirror_mode": {
    "name": "ipython",
    "version": 3
   },
   "file_extension": ".py",
   "mimetype": "text/x-python",
   "name": "python",
   "nbconvert_exporter": "python",
   "pygments_lexer": "ipython3",
   "version": "3.8.5"
  },
  "orig_nbformat": 2,
  "kernelspec": {
   "name": "python385jvsc74a57bd0c973c0f3b75d278258c98f27af521ba2a5a3f33703eb568891dedf9795a850f8",
   "display_name": "Python 3.8.5 64-bit ('base': conda)"
  }
 },
 "nbformat": 4,
 "nbformat_minor": 2,
 "cells": [
  {
   "cell_type": "code",
   "execution_count": 6,
   "metadata": {},
   "outputs": [],
   "source": [
    "import numpy as np\n",
    "import pandas as pd\n",
    "import requests\n",
    "\n",
    "import matplotlib.pyplot as plt\n",
    "import seaborn as sns\n",
    "\n",
    "from IPython.display import display, HTML"
   ]
  },
  {
   "cell_type": "code",
   "execution_count": 7,
   "metadata": {},
   "outputs": [],
   "source": [
    "\n",
    "# this is the base path for the EXOMAST API \n",
    "base_url = \"https://exo.mast.stsci.edu/api/v0.1/\"\n",
    "\n",
    "#kepler data validated time series\n",
    "kepler_dv_url = base_url + \"dvdata/kepler/\""
   ]
  },
  {
   "cell_type": "code",
   "execution_count": 39,
   "metadata": {},
   "outputs": [],
   "source": [
    "class KOIObject():\n",
    "    \n",
    "\n",
    "    def __init__(self, KICID, tce_input = 1):\n",
    "\n",
    "\n",
    "        self.kicid = KICID\n",
    "\n",
    "        # this corresponds to the TCE planetary number in the Kepler cumulative table\n",
    "\n",
    "        # if no argument specified, defaults to first threshold crossing event (tce_index = 1).\n",
    "        self.tce_index = tce_input\n",
    "\n",
    "    \n",
    "        self.total_TCE_num = len(self.list_all_TCE())\n",
    "\n",
    "        # Full data table with data validated light curves for given TCE. \n",
    "        # Contains initial corrected light curves as well as whitened and median detrended versions of light curve.\n",
    "        # Constructor auto-initializes to empty. Need to call load_data() method to fill this.\n",
    "\n",
    "        self.full_datatable = None\n",
    "\n",
    "        # metadata for TCE extracted by Kepler autofitting pipeline. The fitting here is pretty rudimentary.\n",
    "        #  Many of the pipeline values are not exactly the same as in the cumulative table (entries there are fit much more carefully).\n",
    "        # BUT period, duration, and depth are generally fit pretty decently. \n",
    "        # Transit period here generally agree almost exactly with cumulative table. Thus these can be used for record linkage, if need be.\n",
    "\n",
    "        self.period = None\n",
    "        self.duration = None\n",
    "        self.depth = None\n",
    "\n",
    "\n",
    "    #----------------------------DATA LOAD METHODS FOR GIVEN TCE------------------------------------------\n",
    "    \n",
    "\n",
    "\n",
    "    # total initialize can take a little time.\n",
    "\n",
    "    def total_initialize(self):\n",
    "        self.load_data().load_metadata()\n",
    "\n",
    "        #default is TCE 1. Probably won't need this method directly. \n",
    "        #returns full dataframe for integer indexed TCE (from the TCE_list) for a given KOI.\n",
    "\n",
    "    def load_data(self):\n",
    "        lc_data_url = kepler_dv_url + str(self.kicid) + '/table/?tce=' + str(self.tce_index)\n",
    "\n",
    "        lcrequest = requests.get(lc_data_url)\n",
    "        lightcurve_json= lcrequest.json()\n",
    "\n",
    "        # curves are in data key in json. convert to pandas df.\n",
    "\n",
    "        lcdata = pd.DataFrame(lightcurve_json['data'])\n",
    "\n",
    "        self.full_datatable = lcdata\n",
    "\n",
    "        return self\n",
    "\n",
    "    \n",
    "    def load_metadata(self):\n",
    "        tcemeta_url = kepler_dv_url + str(self.kicid) + '/info/?tce=' + str(self.tce_index)\n",
    "        metadata_req = requests.get(tcemeta_url)\n",
    "\n",
    "        metadata = metadata_req.json()['DV Data Header']\n",
    "\n",
    "        self.period = metadata['TPERIOD']\n",
    "        self.duration = metadata['TDUR']\n",
    "        self.depth = metadata['TDEPTH']\n",
    "\n",
    "        return self\n",
    "\n",
    "    #-------------------------------TIME SERIES PROCESSING-------------------------------------------\n",
    "\n",
    "    #some of these require some basic processing to clearly see the transit. \n",
    "    # We're using the median detrended light curves.\n",
    "\n",
    "    def phase_folded(self):\n",
    "\n",
    "        phased_LCdetrend = self.full_datatable.groupby('PHASE').mean().sort_index().loc[:, 'LC_DETREND']\n",
    "\n",
    "        #phased_LCdetrend is a series\n",
    "\n",
    "        return phased_LCdetrend\n",
    "\n",
    "    \n",
    "    def phase_binned(self, bin_width = None): # bin width in days\n",
    "\n",
    "        # sampling interval in days\n",
    "        \n",
    "\n",
    "        if bin_width == None:\n",
    "            #use Kepler sampling interval as default bin width for phase (which is in days)\n",
    "            smplng_intvl = self.full_datatable['TIME'].diff().mean()\n",
    "            bw = smplng_intvl\n",
    "        else:\n",
    "            bw = bin_width\n",
    "        \n",
    "        phasedLC = self.phase_folded()\n",
    "        \n",
    "        phase_range = phasedLC.index.max() - phasedLC.index.min()\n",
    "        bins = round(phase_range/bw)\n",
    "\n",
    "\n",
    "        #convert this to dataframe for further manipulation.\n",
    "        phasedLC_df = phasedLC.to_frame()\n",
    "        phasedLC_df['phase_bin'] = pd.cut(phasedLC.index, bins)\n",
    "\n",
    "        # gets midpoint of each phase bucket\n",
    "        phasedLC_df['phase_mid'] = phasedLC_df['phase_bin'].apply(lambda x: x.mid)\n",
    "\n",
    "        # bin average the detrended light curve \n",
    "        phase_binned = phasedLC_df.groupby('phase_mid').mean().loc[:,'LC_DETREND']\n",
    "\n",
    "        #phase_binned has a sorted categorical index, but we want to convert this to a floating point index\n",
    "        floatind = phase_binned.index.astype('float')\n",
    "\n",
    "        phase_binned.index = floatind\n",
    "\n",
    "        return phase_binned\n",
    "\n",
    "        # purpose of this function is to automatically get a centered close-up on primary transit of TCE.\n",
    "        # CS stands for centered/short\n",
    "\n",
    "    def phase_binned_CS(self, window_mult = None):\n",
    "        if window_mult == None:\n",
    "            # set window size to four times the duration by default\n",
    "            # duration is in hours so convert to days for phase.\n",
    "            delta_phase = 2*0.0417*self.duration #windowsize is 2*delta_phase\n",
    "        else:\n",
    "            delta_phase = window_mult*2*0.0417*self.duration\n",
    "\n",
    "        phaseb_ser = self.phase_binned()\n",
    "        phaseCS = phaseb_ser.loc[-delta_phase: delta_phase]\n",
    "\n",
    "        return phaseCS\n",
    "\n",
    "\n",
    "    #---------------------METHODS FOR LISTING ALL TCES FOR Kepler Object-----------------------\n",
    "\n",
    "    # methods for listing all TCEs for a given Kepler catalog object (KIC).\n",
    "\n",
    "    def list_all_TCE(self):\n",
    "        tcelist_url = kepler_dv_url + str(self.kicid) + '/tces/'\n",
    "\n",
    "        tcelist_req = requests.get(tcelist_url)\n",
    "        tcelist = tcelist_req.json()\n",
    "        \n",
    "        return tcelist    \n",
    "\n",
    "    #---------------------PLOTTING FUNCTIONS----------------------------------------------------\n",
    "\n",
    "    def plot_detrended_lc(self):\n",
    "        sns.scatterplot(x = 'TIME', y = 'LC_DETREND', data = self.full_datatable, s = 2, label = 'Detrended LC')\n",
    "        plt.ylabel('Relative Flux')\n",
    "        plt.xlabel('Time (Baryocentric Julian Days)')\n",
    "        plt.title('Median Detrended Light Curve')\n",
    "        plt.legend()\n",
    "        plt.show()\n",
    "    \n",
    "\n",
    "    \n",
    "    \n",
    "    "
   ]
  },
  {
   "cell_type": "code",
   "execution_count": 40,
   "metadata": {},
   "outputs": [],
   "source": [
    "m = KOIObject(8394721, 2)"
   ]
  },
  {
   "cell_type": "code",
   "execution_count": 41,
   "metadata": {},
   "outputs": [
    {
     "output_type": "execute_result",
     "data": {
      "text/plain": [
       "{'TCE': ['TCE_1', 'TCE_3', 'TCE_2', 'TCE_4']}"
      ]
     },
     "metadata": {},
     "execution_count": 41
    }
   ],
   "source": [
    "m.list_all_TCE()"
   ]
  },
  {
   "cell_type": "code",
   "execution_count": 42,
   "metadata": {},
   "outputs": [
    {
     "output_type": "execute_result",
     "data": {
      "text/plain": [
       "<__main__.KOIObject at 0x24c113cb7c0>"
      ]
     },
     "metadata": {},
     "execution_count": 42
    }
   ],
   "source": [
    "m.load_data()"
   ]
  },
  {
   "cell_type": "code",
   "execution_count": 43,
   "metadata": {},
   "outputs": [
    {
     "output_type": "execute_result",
     "data": {
      "text/plain": [
       "<__main__.KOIObject at 0x24c113cb7c0>"
      ]
     },
     "metadata": {},
     "execution_count": 43
    }
   ],
   "source": [
    "m.load_metadata()"
   ]
  },
  {
   "cell_type": "code",
   "execution_count": 45,
   "metadata": {},
   "outputs": [],
   "source": [
    "# m.plot_detrended_lc()"
   ]
  },
  {
   "cell_type": "code",
   "execution_count": 46,
   "metadata": {},
   "outputs": [],
   "source": [
    "# m.phased_binned().plot()"
   ]
  },
  {
   "cell_type": "code",
   "execution_count": 323,
   "metadata": {},
   "outputs": [
    {
     "output_type": "execute_result",
     "data": {
      "text/plain": [
       "13.484546998744758"
      ]
     },
     "metadata": {},
     "execution_count": 323
    }
   ],
   "source": [
    "m.period"
   ]
  },
  {
   "cell_type": "code",
   "execution_count": 139,
   "metadata": {},
   "outputs": [
    {
     "output_type": "execute_result",
     "data": {
      "text/plain": [
       "0.0204335818138457"
      ]
     },
     "metadata": {},
     "execution_count": 139
    }
   ],
   "source": [
    "m.full_datatable['TIME'].diff().mean()"
   ]
  }
 ]
}