{
 "metadata": {
  "language_info": {
   "codemirror_mode": {
    "name": "ipython",
    "version": 3
   },
   "file_extension": ".py",
   "mimetype": "text/x-python",
   "name": "python",
   "nbconvert_exporter": "python",
   "pygments_lexer": "ipython3",
   "version": "3.8.5"
  },
  "orig_nbformat": 4,
  "kernelspec": {
   "name": "python3",
   "display_name": "Python 3.8.5 64-bit ('base': conda)"
  },
  "interpreter": {
   "hash": "c973c0f3b75d278258c98f27af521ba2a5a3f33703eb568891dedf9795a850f8"
  }
 },
 "nbformat": 4,
 "nbformat_minor": 2,
 "cells": [
  {
   "cell_type": "code",
   "execution_count": 186,
   "metadata": {},
   "outputs": [],
   "source": [
    "import numpy as np\n",
    "import pandas as pd\n",
    "import matplotlib.pyplot as plt\n",
    "import seaborn as sns\n",
    "from copy import deepcopy\n",
    "\n",
    "from lpproj import LocalityPreservingProjection\n",
    "\n",
    "from sklearn.model_selection import train_test_split\n",
    "from sklearn.base import BaseEstimator, TransformerMixin\n",
    "from sklearn.compose import ColumnTransformer\n",
    "from sklearn.compose import make_column_selector\n",
    "\n",
    "from sklearn.pipeline import Pipeline"
   ]
  },
  {
   "source": [
    "# Exoplanet Transit Classification (Kepler Mission)\n",
    "## Data Preprocessing"
   ],
   "cell_type": "markdown",
   "metadata": {}
  },
  {
   "source": [
    "### X|y split + training and hold-out dataset creation"
   ],
   "cell_type": "markdown",
   "metadata": {}
  },
  {
   "cell_type": "code",
   "execution_count": 117,
   "metadata": {},
   "outputs": [
    {
     "output_type": "execute_result",
     "data": {
      "text/plain": [
       "                   Period  Duration  target_label  even_odd_stat  p_secondary  \\\n",
       "KIC_ID  TCE_num                                                                 \n",
       "757450  1        8.884923   2.07004             1       0.925362     0.007862   \n",
       "1026032 1        8.460439   4.73492             2       0.978880     0.000000   \n",
       "1293031 1        0.539366   5.43400             3       0.499758     0.289257   \n",
       "\n",
       "                      max       min   LCBIN_0   LCBIN_1   LCBIN_2  ...  \\\n",
       "KIC_ID  TCE_num                                                    ...   \n",
       "757450  1        0.000177 -0.015739 -0.003788 -0.002984 -0.002181  ...   \n",
       "1026032 1        0.000360 -0.077604  0.001511  0.001346  0.001181  ...   \n",
       "1293031 1        0.000026 -0.000017 -1.000000 -0.979731 -0.959462  ...   \n",
       "\n",
       "                 LCBIN_131  LCBIN_132  LCBIN_133  LCBIN_134  LCBIN_135  \\\n",
       "KIC_ID  TCE_num                                                          \n",
       "757450  1         0.003811   0.003485   0.004310   0.005135   0.005959   \n",
       "1026032 1         0.001283   0.001274   0.001265   0.001134   0.001003   \n",
       "1293031 1         0.417232   0.435126   0.453019   0.470913   0.488807   \n",
       "\n",
       "                 LCBIN_136  LCBIN_137  LCBIN_138  LCBIN_139  LCBIN_140  \n",
       "KIC_ID  TCE_num                                                         \n",
       "757450  1         0.006784   0.007609   0.008434   0.009258   0.010083  \n",
       "1026032 1         0.000872   0.000741   0.000870   0.000999   0.001129  \n",
       "1293031 1         0.506700   0.524594   0.542487   0.560381   0.578274  \n",
       "\n",
       "[3 rows x 148 columns]"
      ],
      "text/html": "<div>\n<style scoped>\n    .dataframe tbody tr th:only-of-type {\n        vertical-align: middle;\n    }\n\n    .dataframe tbody tr th {\n        vertical-align: top;\n    }\n\n    .dataframe thead th {\n        text-align: right;\n    }\n</style>\n<table border=\"1\" class=\"dataframe\">\n  <thead>\n    <tr style=\"text-align: right;\">\n      <th></th>\n      <th></th>\n      <th>Period</th>\n      <th>Duration</th>\n      <th>target_label</th>\n      <th>even_odd_stat</th>\n      <th>p_secondary</th>\n      <th>max</th>\n      <th>min</th>\n      <th>LCBIN_0</th>\n      <th>LCBIN_1</th>\n      <th>LCBIN_2</th>\n      <th>...</th>\n      <th>LCBIN_131</th>\n      <th>LCBIN_132</th>\n      <th>LCBIN_133</th>\n      <th>LCBIN_134</th>\n      <th>LCBIN_135</th>\n      <th>LCBIN_136</th>\n      <th>LCBIN_137</th>\n      <th>LCBIN_138</th>\n      <th>LCBIN_139</th>\n      <th>LCBIN_140</th>\n    </tr>\n    <tr>\n      <th>KIC_ID</th>\n      <th>TCE_num</th>\n      <th></th>\n      <th></th>\n      <th></th>\n      <th></th>\n      <th></th>\n      <th></th>\n      <th></th>\n      <th></th>\n      <th></th>\n      <th></th>\n      <th></th>\n      <th></th>\n      <th></th>\n      <th></th>\n      <th></th>\n      <th></th>\n      <th></th>\n      <th></th>\n      <th></th>\n      <th></th>\n      <th></th>\n    </tr>\n  </thead>\n  <tbody>\n    <tr>\n      <th>757450</th>\n      <th>1</th>\n      <td>8.884923</td>\n      <td>2.07004</td>\n      <td>1</td>\n      <td>0.925362</td>\n      <td>0.007862</td>\n      <td>0.000177</td>\n      <td>-0.015739</td>\n      <td>-0.003788</td>\n      <td>-0.002984</td>\n      <td>-0.002181</td>\n      <td>...</td>\n      <td>0.003811</td>\n      <td>0.003485</td>\n      <td>0.004310</td>\n      <td>0.005135</td>\n      <td>0.005959</td>\n      <td>0.006784</td>\n      <td>0.007609</td>\n      <td>0.008434</td>\n      <td>0.009258</td>\n      <td>0.010083</td>\n    </tr>\n    <tr>\n      <th>1026032</th>\n      <th>1</th>\n      <td>8.460439</td>\n      <td>4.73492</td>\n      <td>2</td>\n      <td>0.978880</td>\n      <td>0.000000</td>\n      <td>0.000360</td>\n      <td>-0.077604</td>\n      <td>0.001511</td>\n      <td>0.001346</td>\n      <td>0.001181</td>\n      <td>...</td>\n      <td>0.001283</td>\n      <td>0.001274</td>\n      <td>0.001265</td>\n      <td>0.001134</td>\n      <td>0.001003</td>\n      <td>0.000872</td>\n      <td>0.000741</td>\n      <td>0.000870</td>\n      <td>0.000999</td>\n      <td>0.001129</td>\n    </tr>\n    <tr>\n      <th>1293031</th>\n      <th>1</th>\n      <td>0.539366</td>\n      <td>5.43400</td>\n      <td>3</td>\n      <td>0.499758</td>\n      <td>0.289257</td>\n      <td>0.000026</td>\n      <td>-0.000017</td>\n      <td>-1.000000</td>\n      <td>-0.979731</td>\n      <td>-0.959462</td>\n      <td>...</td>\n      <td>0.417232</td>\n      <td>0.435126</td>\n      <td>0.453019</td>\n      <td>0.470913</td>\n      <td>0.488807</td>\n      <td>0.506700</td>\n      <td>0.524594</td>\n      <td>0.542487</td>\n      <td>0.560381</td>\n      <td>0.578274</td>\n    </tr>\n  </tbody>\n</table>\n<p>3 rows × 148 columns</p>\n</div>"
     },
     "metadata": {},
     "execution_count": 117
    }
   ],
   "source": [
    "feature_df_path = \"..\\\\data\\\\feat_df_tot.csv\"\n",
    "\n",
    "df_exo = pd.read_csv(feature_df_path, index_col = ['KIC_ID', 'TCE_num'])\n",
    "cols_to_drop = [\"time_complexity\", \"Depth\", \"rms\"]\n",
    "df_exo = df_exo.drop(columns = cols_to_drop)\n",
    "df_exo.head(3)"
   ]
  },
  {
   "cell_type": "code",
   "execution_count": 118,
   "metadata": {},
   "outputs": [],
   "source": [
    "# define X and y\n",
    "X = df_exo.drop(columns = ['target_label'])\n",
    "y = df_exo['target_label']\n",
    "\n",
    "#now create train + hold out set"
   ]
  },
  {
   "cell_type": "code",
   "execution_count": 119,
   "metadata": {},
   "outputs": [],
   "source": [
    "X_train, X_test, y_train, y_test = train_test_split(X, y, test_size = 0.15, stratify = y)"
   ]
  },
  {
   "cell_type": "code",
   "execution_count": 120,
   "metadata": {},
   "outputs": [
    {
     "output_type": "execute_result",
     "data": {
      "text/plain": [
       "1    351\n",
       "2    321\n",
       "3    132\n",
       "Name: target_label, dtype: int64"
      ]
     },
     "metadata": {},
     "execution_count": 120
    }
   ],
   "source": [
    "y_test.value_counts()"
   ]
  },
  {
   "cell_type": "code",
   "execution_count": 121,
   "metadata": {},
   "outputs": [
    {
     "output_type": "execute_result",
     "data": {
      "text/plain": [
       "1    1983\n",
       "2    1819\n",
       "3     749\n",
       "Name: target_label, dtype: int64"
      ]
     },
     "metadata": {},
     "execution_count": 121
    }
   ],
   "source": [
    "y_train.value_counts()"
   ]
  },
  {
   "cell_type": "code",
   "execution_count": 122,
   "metadata": {},
   "outputs": [],
   "source": [
    "# At this point, X_train, y_train, x_test, y_test will be saved as separate files. That way the modeling is being evaluated from a particular train/test sample as saved on file.\n",
    "\n",
    "base_path = \"..\\\\data\\\\\"\n",
    "datasplit_dict = {\"X_train\": X_train, \"y_train\": y_train, \"X_test\": X_test, \"y_test\": y_test}\n",
    "\n",
    "for name, data in datasplit_dict.items():\n",
    "    data.to_csv(base_path + name + \".csv\")\n"
   ]
  },
  {
   "source": [
    "### Data preprocessing on train/hold-out test data from file"
   ],
   "cell_type": "markdown",
   "metadata": {}
  },
  {
   "cell_type": "code",
   "execution_count": 218,
   "metadata": {},
   "outputs": [],
   "source": [
    "#transformer class to perform sqrt log transform on p_secondary and even_odd_stat\n",
    "\n",
    "class SqrtLogZeroExceptionTransformer(BaseEstimator, TransformerMixin):\n",
    "\n",
    "    def __init__(self):\n",
    "        super().__init__()\n",
    "        self.trans_evenodd_max_ = None\n",
    "        self.trans_psec_max_ = None\n",
    "\n",
    "    def fit(self, X, y = None):\n",
    "        cols_to_take = ['even_odd_stat', 'p_secondary'] #these are the columns for which we'll do the sqrt log transformation\n",
    "\n",
    "        with np.errstate(divide='ignore'):\n",
    "            X_trans = np.sqrt(np.abs(np.log10(X[cols_to_take])))\n",
    "        # cuts out infinities and gets maxes --> will use this to impute infinities (which are zeros in the original feature set)\n",
    "        maxsqrtlog = X_trans[~(X_trans == np.inf)].max()\n",
    "\n",
    "        self.trans_evenodd_max_ = maxsqrtlog['even_odd_stat']\n",
    "        self.trans_psec_max_ = maxsqrtlog['p_secondary']\n",
    "\n",
    "        return self\n",
    "    \n",
    "    def transform(self, X, y = None):\n",
    "        cols_to_take = ['even_odd_stat', 'p_secondary'] #these are the columns for which we'll do the sqrt log transformation\n",
    "\n",
    "        # this will issue some divide by zero warnings. im going to suppress this warning.\n",
    "        with np.errstate(divide='ignore'):\n",
    "            X_trans = np.sqrt(np.abs(np.log10(X[cols_to_take])))\n",
    "\n",
    "\n",
    "        X_toreturn = deepcopy(X)\n",
    "        X_toreturn['even_odd_stat'] = X_trans['even_odd_stat'].replace(np.inf, self.trans_evenodd_max_)\n",
    "        X_toreturn['p_secondary'] = X_trans['p_secondary'].replace(np.inf, self.trans_psec_max_)\n",
    "\n",
    "        return X_toreturn\n",
    "\n",
    "    def fit_transform(self, X, y = None):\n",
    "        return self.fit(X).transform(X)"
   ]
  },
  {
   "source": [
    "#### Set up column transformer for LPP dim reduction on LCBIN data and then construct transformation pipeline"
   ],
   "cell_type": "markdown",
   "metadata": {}
  },
  {
   "cell_type": "code",
   "execution_count": 237,
   "metadata": {},
   "outputs": [],
   "source": [
    "# transformer class to do the LPP dimensional reduction on the LCBIN subset.\n",
    "#  the columntransformer outputs \n",
    "\n",
    "LCBINselector = make_column_selector(pattern = \"^LCBIN_\")\n",
    "trans = [('lpp', LocalityPreservingProjection(n_components=2), LCBINselector(X_train) )]\n",
    "\n",
    "steps = [('sqrtlog', SqrtLogZeroExceptionTransformer()), ('lpptrans', ColumnTransformer(transformers = trans, remainder = 'passthrough') )]\n",
    "\n",
    "# fit_transforming the pipeline will output a numpy array (LocalityPreservingProjection outputs numpy array). \n",
    "# column order is (LPP_1, LPP_2, Period, Duration, even_odd_stat, p_secondary, max, min)\n",
    "\n",
    "datatrans_pipe = Pipeline(steps)"
   ]
  },
  {
   "cell_type": "code",
   "execution_count": 228,
   "metadata": {},
   "outputs": [
    {
     "output_type": "execute_result",
     "data": {
      "text/plain": [
       "Pipeline(steps=[('sqrtlog', SqrtLogZeroExceptionTransformer()),\n",
       "                ('lpptrans',\n",
       "                 ColumnTransformer(remainder='passthrough',\n",
       "                                   transformers=[('lpp',\n",
       "                                                  LocalityPreservingProjection(),\n",
       "                                                  ['LCBIN_0', 'LCBIN_1',\n",
       "                                                   'LCBIN_2', 'LCBIN_3',\n",
       "                                                   'LCBIN_4', 'LCBIN_5',\n",
       "                                                   'LCBIN_6', 'LCBIN_7',\n",
       "                                                   'LCBIN_8', 'LCBIN_9',\n",
       "                                                   'LCBIN_10', 'LCBIN_11',\n",
       "                                                   'LCBIN_12', 'LCBIN_13',\n",
       "                                                   'LCBIN_14', 'LCBIN_15',\n",
       "                                                   'LCBIN_16', 'LCBIN_17',\n",
       "                                                   'LCBIN_18', 'LCBIN_19',\n",
       "                                                   'LCBIN_20', 'LCBIN_21',\n",
       "                                                   'LCBIN_22', 'LCBIN_23',\n",
       "                                                   'LCBIN_24', 'LCBIN_25',\n",
       "                                                   'LCBIN_26', 'LCBIN_27',\n",
       "                                                   'LCBIN_28', 'LCBIN_29', ...])]))])"
      ]
     },
     "metadata": {},
     "execution_count": 228
    }
   ],
   "source": [
    "data_trans.fit(X_train)"
   ]
  }
 ]
}