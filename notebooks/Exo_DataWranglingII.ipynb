{
 "metadata": {
  "language_info": {
   "codemirror_mode": {
    "name": "ipython",
    "version": 3
   },
   "file_extension": ".py",
   "mimetype": "text/x-python",
   "name": "python",
   "nbconvert_exporter": "python",
   "pygments_lexer": "ipython3",
   "version": "3.8.5"
  },
  "orig_nbformat": 4,
  "kernelspec": {
   "name": "python3",
   "display_name": "Python 3.8.5 64-bit ('base': conda)"
  },
  "interpreter": {
   "hash": "c973c0f3b75d278258c98f27af521ba2a5a3f33703eb568891dedf9795a850f8"
  }
 },
 "nbformat": 4,
 "nbformat_minor": 2,
 "cells": [
  {
   "source": [
    "# Fun with Exoplanets\n",
    "## Data Wrangling Part II: "
   ],
   "cell_type": "markdown",
   "metadata": {}
  },
  {
   "cell_type": "code",
   "execution_count": 10,
   "metadata": {},
   "outputs": [],
   "source": [
    "# import libraries\n",
    "import pandas as pd\n",
    "import numpy as np\n",
    "\n",
    "from KOIclass import KOIObject\n",
    "\n",
    "from sklearn.impute import SimpleImputer\n",
    "from sklearn.base import TransformerMixin\n"
   ]
  },
  {
   "source": [
    "#### Load cumulative table and set KIC_ID and TCE_num will be set to a multi-index."
   ],
   "cell_type": "markdown",
   "metadata": {}
  },
  {
   "cell_type": "code",
   "execution_count": 3,
   "metadata": {},
   "outputs": [
    {
     "output_type": "execute_result",
     "data": {
      "text/plain": [
       "                     Period    Depth  Duration  target_label\n",
       "KIC_ID  TCE_num                                             \n",
       "757450  1          8.884923  16053.4   2.07004             1\n",
       "1026032 1          8.460439  76412.9   4.73492             2\n",
       "1293031 1          0.539366    145.0   5.43400             3\n",
       "1432214 1        161.788327  87750.0   5.31000             2\n",
       "1432789 1          9.931463    398.6   5.67800             1"
      ],
      "text/html": "<div>\n<style scoped>\n    .dataframe tbody tr th:only-of-type {\n        vertical-align: middle;\n    }\n\n    .dataframe tbody tr th {\n        vertical-align: top;\n    }\n\n    .dataframe thead th {\n        text-align: right;\n    }\n</style>\n<table border=\"1\" class=\"dataframe\">\n  <thead>\n    <tr style=\"text-align: right;\">\n      <th></th>\n      <th></th>\n      <th>Period</th>\n      <th>Depth</th>\n      <th>Duration</th>\n      <th>target_label</th>\n    </tr>\n    <tr>\n      <th>KIC_ID</th>\n      <th>TCE_num</th>\n      <th></th>\n      <th></th>\n      <th></th>\n      <th></th>\n    </tr>\n  </thead>\n  <tbody>\n    <tr>\n      <th>757450</th>\n      <th>1</th>\n      <td>8.884923</td>\n      <td>16053.4</td>\n      <td>2.07004</td>\n      <td>1</td>\n    </tr>\n    <tr>\n      <th>1026032</th>\n      <th>1</th>\n      <td>8.460439</td>\n      <td>76412.9</td>\n      <td>4.73492</td>\n      <td>2</td>\n    </tr>\n    <tr>\n      <th>1293031</th>\n      <th>1</th>\n      <td>0.539366</td>\n      <td>145.0</td>\n      <td>5.43400</td>\n      <td>3</td>\n    </tr>\n    <tr>\n      <th>1432214</th>\n      <th>1</th>\n      <td>161.788327</td>\n      <td>87750.0</td>\n      <td>5.31000</td>\n      <td>2</td>\n    </tr>\n    <tr>\n      <th>1432789</th>\n      <th>1</th>\n      <td>9.931463</td>\n      <td>398.6</td>\n      <td>5.67800</td>\n      <td>1</td>\n    </tr>\n  </tbody>\n</table>\n</div>"
     },
     "metadata": {},
     "execution_count": 3
    }
   ],
   "source": [
    "KOI_cumulative = pd.read_csv('..\\data\\KOI_cumulative.csv')\n",
    "KOI_cumulative = KOI_cumulative.set_index(['KIC_ID', 'TCE_num']).sort_index()\n",
    "KOI_cumulative.head()"
   ]
  },
  {
   "source": [
    "#### Construct empty dataframe with dict keys from DV feature extraction, then loop over all entries in KOI_cumulative and append feature dict to empty dataframe.\n",
    "\n",
    "#### Outputs light curve extracted features to csv"
   ],
   "cell_type": "markdown",
   "metadata": {}
  },
  {
   "cell_type": "code",
   "execution_count": 4,
   "metadata": {
    "tags": [
     "outputPrepend"
    ]
   },
   "outputs": [
    {
     "output_type": "stream",
     "name": "stderr",
     "text": [
      "otebooks\\KOIclass.py:344: PeakPropertyWarning: some peaks have a prominence of 0\n",
      "  peak_loc_array, fit_dict = find_peaks(-noprimary, prominence = num_sigma*noprimary.std(), wlen = window_length)\n",
      "c:\\Users\\prave\\Springboard\\Capstone2\\notebooks\\KOIclass.py:344: PeakPropertyWarning: some peaks have a prominence of 0\n",
      "  peak_loc_array, fit_dict = find_peaks(-noprimary, prominence = num_sigma*noprimary.std(), wlen = window_length)\n",
      "c:\\Users\\prave\\Springboard\\Capstone2\\notebooks\\KOIclass.py:344: PeakPropertyWarning: some peaks have a prominence of 0\n",
      "  peak_loc_array, fit_dict = find_peaks(-noprimary, prominence = num_sigma*noprimary.std(), wlen = window_length)\n",
      "c:\\Users\\prave\\Springboard\\Capstone2\\notebooks\\KOIclass.py:344: PeakPropertyWarning: some peaks have a prominence of 0\n",
      "  peak_loc_array, fit_dict = find_peaks(-noprimary, prominence = num_sigma*noprimary.std(), wlen = window_length)\n",
      "c:\\Users\\prave\\Springboard\\Capstone2\\notebooks\\KOIclass.py:344: PeakPropertyWarning: some peaks have a prominence of 0\n",
      "  peak_loc_array, fit_dict = find_peaks(-noprimary, prominence = num_sigma*noprimary.std(), wlen = window_length)\n",
      "c:\\Users\\prave\\Springboard\\Capstone2\\notebooks\\KOIclass.py:344: PeakPropertyWarning: some peaks have a prominence of 0\n",
      "  peak_loc_array, fit_dict = find_peaks(-noprimary, prominence = num_sigma*noprimary.std(), wlen = window_length)\n",
      "c:\\Users\\prave\\Springboard\\Capstone2\\notebooks\\KOIclass.py:344: PeakPropertyWarning: some peaks have a prominence of 0\n",
      "  peak_loc_array, fit_dict = find_peaks(-noprimary, prominence = num_sigma*noprimary.std(), wlen = window_length)\n",
      "c:\\Users\\prave\\Springboard\\Capstone2\\notebooks\\KOIclass.py:344: PeakPropertyWarning: some peaks have a prominence of 0\n",
      "  peak_loc_array, fit_dict = find_peaks(-noprimary, prominence = num_sigma*noprimary.std(), wlen = window_length)\n",
      "c:\\Users\\prave\\Springboard\\Capstone2\\notebooks\\KOIclass.py:344: PeakPropertyWarning: some peaks have a prominence of 0\n",
      "  peak_loc_array, fit_dict = find_peaks(-noprimary, prominence = num_sigma*noprimary.std(), wlen = window_length)\n",
      "c:\\Users\\prave\\Springboard\\Capstone2\\notebooks\\KOIclass.py:344: PeakPropertyWarning: some peaks have a prominence of 0\n",
      "  peak_loc_array, fit_dict = find_peaks(-noprimary, prominence = num_sigma*noprimary.std(), wlen = window_length)\n",
      "c:\\Users\\prave\\Springboard\\Capstone2\\notebooks\\KOIclass.py:344: PeakPropertyWarning: some peaks have a prominence of 0\n",
      "  peak_loc_array, fit_dict = find_peaks(-noprimary, prominence = num_sigma*noprimary.std(), wlen = window_length)\n",
      "c:\\Users\\prave\\Springboard\\Capstone2\\notebooks\\KOIclass.py:344: PeakPropertyWarning: some peaks have a prominence of 0\n",
      "  peak_loc_array, fit_dict = find_peaks(-noprimary, prominence = num_sigma*noprimary.std(), wlen = window_length)\n",
      "c:\\Users\\prave\\Springboard\\Capstone2\\notebooks\\KOIclass.py:344: PeakPropertyWarning: some peaks have a prominence of 0\n",
      "  peak_loc_array, fit_dict = find_peaks(-noprimary, prominence = num_sigma*noprimary.std(), wlen = window_length)\n",
      "c:\\Users\\prave\\Springboard\\Capstone2\\notebooks\\KOIclass.py:344: PeakPropertyWarning: some peaks have a prominence of 0\n",
      "  peak_loc_array, fit_dict = find_peaks(-noprimary, prominence = num_sigma*noprimary.std(), wlen = window_length)\n",
      "c:\\Users\\prave\\Springboard\\Capstone2\\notebooks\\KOIclass.py:344: PeakPropertyWarning: some peaks have a prominence of 0\n",
      "  peak_loc_array, fit_dict = find_peaks(-noprimary, prominence = num_sigma*noprimary.std(), wlen = window_length)\n",
      "c:\\Users\\prave\\Springboard\\Capstone2\\notebooks\\KOIclass.py:344: PeakPropertyWarning: some peaks have a prominence of 0\n",
      "  peak_loc_array, fit_dict = find_peaks(-noprimary, prominence = num_sigma*noprimary.std(), wlen = window_length)\n",
      "c:\\Users\\prave\\Springboard\\Capstone2\\notebooks\\KOIclass.py:344: PeakPropertyWarning: some peaks have a prominence of 0\n",
      "  peak_loc_array, fit_dict = find_peaks(-noprimary, prominence = num_sigma*noprimary.std(), wlen = window_length)\n",
      "c:\\Users\\prave\\Springboard\\Capstone2\\notebooks\\KOIclass.py:344: PeakPropertyWarning: some peaks have a prominence of 0\n",
      "  peak_loc_array, fit_dict = find_peaks(-noprimary, prominence = num_sigma*noprimary.std(), wlen = window_length)\n",
      "c:\\Users\\prave\\Springboard\\Capstone2\\notebooks\\KOIclass.py:344: PeakPropertyWarning: some peaks have a prominence of 0\n",
      "  peak_loc_array, fit_dict = find_peaks(-noprimary, prominence = num_sigma*noprimary.std(), wlen = window_length)\n",
      "c:\\Users\\prave\\Springboard\\Capstone2\\notebooks\\KOIclass.py:344: PeakPropertyWarning: some peaks have a prominence of 0\n",
      "  peak_loc_array, fit_dict = find_peaks(-noprimary, prominence = num_sigma*noprimary.std(), wlen = window_length)\n",
      "c:\\Users\\prave\\Springboard\\Capstone2\\notebooks\\KOIclass.py:344: PeakPropertyWarning: some peaks have a prominence of 0\n",
      "  peak_loc_array, fit_dict = find_peaks(-noprimary, prominence = num_sigma*noprimary.std(), wlen = window_length)\n",
      "c:\\Users\\prave\\Springboard\\Capstone2\\notebooks\\KOIclass.py:344: PeakPropertyWarning: some peaks have a prominence of 0\n",
      "  peak_loc_array, fit_dict = find_peaks(-noprimary, prominence = num_sigma*noprimary.std(), wlen = window_length)\n",
      "c:\\Users\\prave\\Springboard\\Capstone2\\notebooks\\KOIclass.py:344: PeakPropertyWarning: some peaks have a prominence of 0\n",
      "  peak_loc_array, fit_dict = find_peaks(-noprimary, prominence = num_sigma*noprimary.std(), wlen = window_length)\n",
      "c:\\Users\\prave\\Springboard\\Capstone2\\notebooks\\KOIclass.py:344: PeakPropertyWarning: some peaks have a prominence of 0\n",
      "  peak_loc_array, fit_dict = find_peaks(-noprimary, prominence = num_sigma*noprimary.std(), wlen = window_length)\n",
      "c:\\Users\\prave\\Springboard\\Capstone2\\notebooks\\KOIclass.py:344: PeakPropertyWarning: some peaks have a prominence of 0\n",
      "  peak_loc_array, fit_dict = find_peaks(-noprimary, prominence = num_sigma*noprimary.std(), wlen = window_length)\n",
      "c:\\Users\\prave\\Springboard\\Capstone2\\notebooks\\KOIclass.py:344: PeakPropertyWarning: some peaks have a prominence of 0\n",
      "  peak_loc_array, fit_dict = find_peaks(-noprimary, prominence = num_sigma*noprimary.std(), wlen = window_length)\n",
      "c:\\Users\\prave\\Springboard\\Capstone2\\notebooks\\KOIclass.py:344: PeakPropertyWarning: some peaks have a prominence of 0\n",
      "  peak_loc_array, fit_dict = find_peaks(-noprimary, prominence = num_sigma*noprimary.std(), wlen = window_length)\n",
      "c:\\Users\\prave\\Springboard\\Capstone2\\notebooks\\KOIclass.py:344: PeakPropertyWarning: some peaks have a prominence of 0\n",
      "  peak_loc_array, fit_dict = find_peaks(-noprimary, prominence = num_sigma*noprimary.std(), wlen = window_length)\n",
      "c:\\Users\\prave\\Springboard\\Capstone2\\notebooks\\KOIclass.py:344: PeakPropertyWarning: some peaks have a prominence of 0\n",
      "  peak_loc_array, fit_dict = find_peaks(-noprimary, prominence = num_sigma*noprimary.std(), wlen = window_length)\n",
      "c:\\Users\\prave\\Springboard\\Capstone2\\notebooks\\KOIclass.py:344: PeakPropertyWarning: some peaks have a prominence of 0\n",
      "  peak_loc_array, fit_dict = find_peaks(-noprimary, prominence = num_sigma*noprimary.std(), wlen = window_length)\n",
      "c:\\Users\\prave\\Springboard\\Capstone2\\notebooks\\KOIclass.py:344: PeakPropertyWarning: some peaks have a prominence of 0\n",
      "  peak_loc_array, fit_dict = find_peaks(-noprimary, prominence = num_sigma*noprimary.std(), wlen = window_length)\n",
      "c:\\Users\\prave\\Springboard\\Capstone2\\notebooks\\KOIclass.py:344: PeakPropertyWarning: some peaks have a prominence of 0\n",
      "  peak_loc_array, fit_dict = find_peaks(-noprimary, prominence = num_sigma*noprimary.std(), wlen = window_length)\n",
      "c:\\Users\\prave\\Springboard\\Capstone2\\notebooks\\KOIclass.py:344: PeakPropertyWarning: some peaks have a prominence of 0\n",
      "  peak_loc_array, fit_dict = find_peaks(-noprimary, prominence = num_sigma*noprimary.std(), wlen = window_length)\n",
      "c:\\Users\\prave\\Springboard\\Capstone2\\notebooks\\KOIclass.py:344: PeakPropertyWarning: some peaks have a prominence of 0\n",
      "  peak_loc_array, fit_dict = find_peaks(-noprimary, prominence = num_sigma*noprimary.std(), wlen = window_length)\n",
      "c:\\Users\\prave\\Springboard\\Capstone2\\notebooks\\KOIclass.py:344: PeakPropertyWarning: some peaks have a prominence of 0\n",
      "  peak_loc_array, fit_dict = find_peaks(-noprimary, prominence = num_sigma*noprimary.std(), wlen = window_length)\n",
      "c:\\Users\\prave\\Springboard\\Capstone2\\notebooks\\KOIclass.py:344: PeakPropertyWarning: some peaks have a prominence of 0\n",
      "  peak_loc_array, fit_dict = find_peaks(-noprimary, prominence = num_sigma*noprimary.std(), wlen = window_length)\n",
      "c:\\Users\\prave\\Springboard\\Capstone2\\notebooks\\KOIclass.py:344: PeakPropertyWarning: some peaks have a prominence of 0\n",
      "  peak_loc_array, fit_dict = find_peaks(-noprimary, prominence = num_sigma*noprimary.std(), wlen = window_length)\n",
      "c:\\Users\\prave\\Springboard\\Capstone2\\notebooks\\KOIclass.py:344: PeakPropertyWarning: some peaks have a prominence of 0\n",
      "  peak_loc_array, fit_dict = find_peaks(-noprimary, prominence = num_sigma*noprimary.std(), wlen = window_length)\n",
      "c:\\Users\\prave\\Springboard\\Capstone2\\notebooks\\KOIclass.py:344: PeakPropertyWarning: some peaks have a prominence of 0\n",
      "  peak_loc_array, fit_dict = find_peaks(-noprimary, prominence = num_sigma*noprimary.std(), wlen = window_length)\n",
      "c:\\Users\\prave\\Springboard\\Capstone2\\notebooks\\KOIclass.py:344: PeakPropertyWarning: some peaks have a prominence of 0\n",
      "  peak_loc_array, fit_dict = find_peaks(-noprimary, prominence = num_sigma*noprimary.std(), wlen = window_length)\n",
      "c:\\Users\\prave\\Springboard\\Capstone2\\notebooks\\KOIclass.py:344: PeakPropertyWarning: some peaks have a prominence of 0\n",
      "  peak_loc_array, fit_dict = find_peaks(-noprimary, prominence = num_sigma*noprimary.std(), wlen = window_length)\n",
      "c:\\Users\\prave\\Springboard\\Capstone2\\notebooks\\KOIclass.py:344: PeakPropertyWarning: some peaks have a prominence of 0\n",
      "  peak_loc_array, fit_dict = find_peaks(-noprimary, prominence = num_sigma*noprimary.std(), wlen = window_length)\n",
      "c:\\Users\\prave\\Springboard\\Capstone2\\notebooks\\KOIclass.py:344: PeakPropertyWarning: some peaks have a prominence of 0\n",
      "  peak_loc_array, fit_dict = find_peaks(-noprimary, prominence = num_sigma*noprimary.std(), wlen = window_length)\n",
      "c:\\Users\\prave\\Springboard\\Capstone2\\notebooks\\KOIclass.py:344: PeakPropertyWarning: some peaks have a prominence of 0\n",
      "  peak_loc_array, fit_dict = find_peaks(-noprimary, prominence = num_sigma*noprimary.std(), wlen = window_length)\n",
      "c:\\Users\\prave\\Springboard\\Capstone2\\notebooks\\KOIclass.py:344: PeakPropertyWarning: some peaks have a prominence of 0\n",
      "  peak_loc_array, fit_dict = find_peaks(-noprimary, prominence = num_sigma*noprimary.std(), wlen = window_length)\n",
      "c:\\Users\\prave\\Springboard\\Capstone2\\notebooks\\KOIclass.py:344: PeakPropertyWarning: some peaks have a prominence of 0\n",
      "  peak_loc_array, fit_dict = find_peaks(-noprimary, prominence = num_sigma*noprimary.std(), wlen = window_length)\n",
      "c:\\Users\\prave\\Springboard\\Capstone2\\notebooks\\KOIclass.py:344: PeakPropertyWarning: some peaks have a prominence of 0\n",
      "  peak_loc_array, fit_dict = find_peaks(-noprimary, prominence = num_sigma*noprimary.std(), wlen = window_length)\n",
      "c:\\Users\\prave\\Springboard\\Capstone2\\notebooks\\KOIclass.py:344: PeakPropertyWarning: some peaks have a prominence of 0\n",
      "  peak_loc_array, fit_dict = find_peaks(-noprimary, prominence = num_sigma*noprimary.std(), wlen = window_length)\n",
      "c:\\Users\\prave\\Springboard\\Capstone2\\notebooks\\KOIclass.py:344: PeakPropertyWarning: some peaks have a prominence of 0\n",
      "  peak_loc_array, fit_dict = find_peaks(-noprimary, prominence = num_sigma*noprimary.std(), wlen = window_length)\n",
      "c:\\Users\\prave\\Springboard\\Capstone2\\notebooks\\KOIclass.py:344: PeakPropertyWarning: some peaks have a prominence of 0\n",
      "  peak_loc_array, fit_dict = find_peaks(-noprimary, prominence = num_sigma*noprimary.std(), wlen = window_length)\n",
      "c:\\Users\\prave\\Springboard\\Capstone2\\notebooks\\KOIclass.py:344: PeakPropertyWarning: some peaks have a prominence of 0\n",
      "  peak_loc_array, fit_dict = find_peaks(-noprimary, prominence = num_sigma*noprimary.std(), wlen = window_length)\n",
      "c:\\Users\\prave\\Springboard\\Capstone2\\notebooks\\KOIclass.py:344: PeakPropertyWarning: some peaks have a prominence of 0\n",
      "  peak_loc_array, fit_dict = find_peaks(-noprimary, prominence = num_sigma*noprimary.std(), wlen = window_length)\n",
      "c:\\Users\\prave\\Springboard\\Capstone2\\notebooks\\KOIclass.py:344: PeakPropertyWarning: some peaks have a prominence of 0\n",
      "  peak_loc_array, fit_dict = find_peaks(-noprimary, prominence = num_sigma*noprimary.std(), wlen = window_length)\n",
      "c:\\Users\\prave\\Springboard\\Capstone2\\notebooks\\KOIclass.py:344: PeakPropertyWarning: some peaks have a prominence of 0\n",
      "  peak_loc_array, fit_dict = find_peaks(-noprimary, prominence = num_sigma*noprimary.std(), wlen = window_length)\n",
      "c:\\Users\\prave\\Springboard\\Capstone2\\notebooks\\KOIclass.py:344: PeakPropertyWarning: some peaks have a prominence of 0\n",
      "  peak_loc_array, fit_dict = find_peaks(-noprimary, prominence = num_sigma*noprimary.std(), wlen = window_length)\n",
      "c:\\Users\\prave\\Springboard\\Capstone2\\notebooks\\KOIclass.py:344: PeakPropertyWarning: some peaks have a prominence of 0\n",
      "  peak_loc_array, fit_dict = find_peaks(-noprimary, prominence = num_sigma*noprimary.std(), wlen = window_length)\n",
      "c:\\Users\\prave\\Springboard\\Capstone2\\notebooks\\KOIclass.py:344: PeakPropertyWarning: some peaks have a prominence of 0\n",
      "  peak_loc_array, fit_dict = find_peaks(-noprimary, prominence = num_sigma*noprimary.std(), wlen = window_length)\n",
      "c:\\Users\\prave\\Springboard\\Capstone2\\notebooks\\KOIclass.py:344: PeakPropertyWarning: some peaks have a prominence of 0\n",
      "  peak_loc_array, fit_dict = find_peaks(-noprimary, prominence = num_sigma*noprimary.std(), wlen = window_length)\n",
      "c:\\Users\\prave\\Springboard\\Capstone2\\notebooks\\KOIclass.py:344: PeakPropertyWarning: some peaks have a prominence of 0\n",
      "  peak_loc_array, fit_dict = find_peaks(-noprimary, prominence = num_sigma*noprimary.std(), wlen = window_length)\n",
      "c:\\Users\\prave\\Springboard\\Capstone2\\notebooks\\KOIclass.py:344: PeakPropertyWarning: some peaks have a prominence of 0\n",
      "  peak_loc_array, fit_dict = find_peaks(-noprimary, prominence = num_sigma*noprimary.std(), wlen = window_length)\n",
      "c:\\Users\\prave\\Springboard\\Capstone2\\notebooks\\KOIclass.py:344: PeakPropertyWarning: some peaks have a prominence of 0\n",
      "  peak_loc_array, fit_dict = find_peaks(-noprimary, prominence = num_sigma*noprimary.std(), wlen = window_length)\n",
      "c:\\Users\\prave\\Springboard\\Capstone2\\notebooks\\KOIclass.py:344: PeakPropertyWarning: some peaks have a prominence of 0\n",
      "  peak_loc_array, fit_dict = find_peaks(-noprimary, prominence = num_sigma*noprimary.std(), wlen = window_length)\n",
      "c:\\Users\\prave\\Springboard\\Capstone2\\notebooks\\KOIclass.py:344: PeakPropertyWarning: some peaks have a prominence of 0\n",
      "  peak_loc_array, fit_dict = find_peaks(-noprimary, prominence = num_sigma*noprimary.std(), wlen = window_length)\n",
      "c:\\Users\\prave\\Springboard\\Capstone2\\notebooks\\KOIclass.py:344: PeakPropertyWarning: some peaks have a prominence of 0\n",
      "  peak_loc_array, fit_dict = find_peaks(-noprimary, prominence = num_sigma*noprimary.std(), wlen = window_length)\n",
      "c:\\Users\\prave\\Springboard\\Capstone2\\notebooks\\KOIclass.py:344: PeakPropertyWarning: some peaks have a prominence of 0\n",
      "  peak_loc_array, fit_dict = find_peaks(-noprimary, prominence = num_sigma*noprimary.std(), wlen = window_length)\n",
      "c:\\Users\\prave\\Springboard\\Capstone2\\notebooks\\KOIclass.py:344: PeakPropertyWarning: some peaks have a prominence of 0\n",
      "  peak_loc_array, fit_dict = find_peaks(-noprimary, prominence = num_sigma*noprimary.std(), wlen = window_length)\n",
      "c:\\Users\\prave\\Springboard\\Capstone2\\notebooks\\KOIclass.py:344: PeakPropertyWarning: some peaks have a prominence of 0\n",
      "  peak_loc_array, fit_dict = find_peaks(-noprimary, prominence = num_sigma*noprimary.std(), wlen = window_length)\n",
      "c:\\Users\\prave\\Springboard\\Capstone2\\notebooks\\KOIclass.py:344: PeakPropertyWarning: some peaks have a prominence of 0\n",
      "  peak_loc_array, fit_dict = find_peaks(-noprimary, prominence = num_sigma*noprimary.std(), wlen = window_length)\n",
      "c:\\Users\\prave\\Springboard\\Capstone2\\notebooks\\KOIclass.py:344: PeakPropertyWarning: some peaks have a prominence of 0\n",
      "  peak_loc_array, fit_dict = find_peaks(-noprimary, prominence = num_sigma*noprimary.std(), wlen = window_length)\n",
      "c:\\Users\\prave\\Springboard\\Capstone2\\notebooks\\KOIclass.py:344: PeakPropertyWarning: some peaks have a prominence of 0\n",
      "  peak_loc_array, fit_dict = find_peaks(-noprimary, prominence = num_sigma*noprimary.std(), wlen = window_length)\n",
      "c:\\Users\\prave\\Springboard\\Capstone2\\notebooks\\KOIclass.py:344: PeakPropertyWarning: some peaks have a prominence of 0\n",
      "  peak_loc_array, fit_dict = find_peaks(-noprimary, prominence = num_sigma*noprimary.std(), wlen = window_length)\n",
      "c:\\Users\\prave\\Springboard\\Capstone2\\notebooks\\KOIclass.py:344: PeakPropertyWarning: some peaks have a prominence of 0\n",
      "  peak_loc_array, fit_dict = find_peaks(-noprimary, prominence = num_sigma*noprimary.std(), wlen = window_length)\n",
      "c:\\Users\\prave\\Springboard\\Capstone2\\notebooks\\KOIclass.py:344: PeakPropertyWarning: some peaks have a prominence of 0\n",
      "  peak_loc_array, fit_dict = find_peaks(-noprimary, prominence = num_sigma*noprimary.std(), wlen = window_length)\n",
      "c:\\Users\\prave\\Springboard\\Capstone2\\notebooks\\KOIclass.py:344: PeakPropertyWarning: some peaks have a prominence of 0\n",
      "  peak_loc_array, fit_dict = find_peaks(-noprimary, prominence = num_sigma*noprimary.std(), wlen = window_length)\n",
      "c:\\Users\\prave\\Springboard\\Capstone2\\notebooks\\KOIclass.py:344: PeakPropertyWarning: some peaks have a prominence of 0\n",
      "  peak_loc_array, fit_dict = find_peaks(-noprimary, prominence = num_sigma*noprimary.std(), wlen = window_length)\n",
      "c:\\Users\\prave\\Springboard\\Capstone2\\notebooks\\KOIclass.py:344: PeakPropertyWarning: some peaks have a prominence of 0\n",
      "  peak_loc_array, fit_dict = find_peaks(-noprimary, prominence = num_sigma*noprimary.std(), wlen = window_length)\n",
      "c:\\Users\\prave\\Springboard\\Capstone2\\notebooks\\KOIclass.py:344: PeakPropertyWarning: some peaks have a prominence of 0\n",
      "  peak_loc_array, fit_dict = find_peaks(-noprimary, prominence = num_sigma*noprimary.std(), wlen = window_length)\n",
      "c:\\Users\\prave\\Springboard\\Capstone2\\notebooks\\KOIclass.py:344: PeakPropertyWarning: some peaks have a prominence of 0\n",
      "  peak_loc_array, fit_dict = find_peaks(-noprimary, prominence = num_sigma*noprimary.std(), wlen = window_length)\n",
      "c:\\Users\\prave\\Springboard\\Capstone2\\notebooks\\KOIclass.py:344: PeakPropertyWarning: some peaks have a prominence of 0\n",
      "  peak_loc_array, fit_dict = find_peaks(-noprimary, prominence = num_sigma*noprimary.std(), wlen = window_length)\n",
      "c:\\Users\\prave\\Springboard\\Capstone2\\notebooks\\KOIclass.py:344: PeakPropertyWarning: some peaks have a prominence of 0\n",
      "  peak_loc_array, fit_dict = find_peaks(-noprimary, prominence = num_sigma*noprimary.std(), wlen = window_length)\n",
      "c:\\Users\\prave\\Springboard\\Capstone2\\notebooks\\KOIclass.py:344: PeakPropertyWarning: some peaks have a prominence of 0\n",
      "  peak_loc_array, fit_dict = find_peaks(-noprimary, prominence = num_sigma*noprimary.std(), wlen = window_length)\n",
      "c:\\Users\\prave\\Springboard\\Capstone2\\notebooks\\KOIclass.py:344: PeakPropertyWarning: some peaks have a prominence of 0\n",
      "  peak_loc_array, fit_dict = find_peaks(-noprimary, prominence = num_sigma*noprimary.std(), wlen = window_length)\n",
      "c:\\Users\\prave\\Springboard\\Capstone2\\notebooks\\KOIclass.py:344: PeakPropertyWarning: some peaks have a prominence of 0\n",
      "  peak_loc_array, fit_dict = find_peaks(-noprimary, prominence = num_sigma*noprimary.std(), wlen = window_length)\n",
      "c:\\Users\\prave\\Springboard\\Capstone2\\notebooks\\KOIclass.py:344: PeakPropertyWarning: some peaks have a prominence of 0\n",
      "  peak_loc_array, fit_dict = find_peaks(-noprimary, prominence = num_sigma*noprimary.std(), wlen = window_length)\n",
      "c:\\Users\\prave\\Springboard\\Capstone2\\notebooks\\KOIclass.py:344: PeakPropertyWarning: some peaks have a prominence of 0\n",
      "  peak_loc_array, fit_dict = find_peaks(-noprimary, prominence = num_sigma*noprimary.std(), wlen = window_length)\n",
      "c:\\Users\\prave\\Springboard\\Capstone2\\notebooks\\KOIclass.py:344: PeakPropertyWarning: some peaks have a prominence of 0\n",
      "  peak_loc_array, fit_dict = find_peaks(-noprimary, prominence = num_sigma*noprimary.std(), wlen = window_length)\n"
     ]
    }
   ],
   "source": [
    "q = KOIObject(1026032, 1) # takes an example from the dataset for column name extraction.\n",
    "cols = q.total_initialize().extract_allfeatures().keys()\n",
    "# generate empty dataframe \n",
    "feat_df = pd.DataFrame(columns = cols)\n",
    "\n",
    "for x in KOI_cumulative.index:\n",
    "    KICID, TCE_num = x\n",
    "    feat_df = feat_df.append(pd.Series(KOIObject(KICID, TCE_num).total_initialize().extract_allfeatures()).to_frame().T)\n",
    "\n",
    "feat_df = feat_df.reset_index(drop = True).set_index(['KIC_ID', 'TCE_num'])\n",
    "total_set = KOI_cumulative.join(feat_df)\n",
    "feature_df_path = \"..\\\\data\\\\feat_df_tot.csv\"\n",
    "total_set.to_csv(feature_df_path)"
   ]
  },
  {
   "source": [
    "#### So we have our dataframe with extracted features, 141 point phase-binned/normalized transit closeup series, and labels indexed by KIC ID and TCE number. "
   ],
   "cell_type": "markdown",
   "metadata": {}
  },
  {
   "cell_type": "code",
   "execution_count": 5,
   "metadata": {},
   "outputs": [
    {
     "output_type": "execute_result",
     "data": {
      "text/plain": [
       "                     Period    Depth  Duration  target_label  even_odd_stat  \\\n",
       "KIC_ID  TCE_num                                                               \n",
       "757450  1          8.884923  16053.4   2.07004             1       0.925362   \n",
       "1026032 1          8.460439  76412.9   4.73492             2       0.978880   \n",
       "1293031 1          0.539366    145.0   5.43400             3       0.499758   \n",
       "1432214 1        161.788327  87750.0   5.31000             2       0.997538   \n",
       "1432789 1          9.931463    398.6   5.67800             1       0.299867   \n",
       "\n",
       "                 p_secondary  time_complexity       rms       max       min  \\\n",
       "KIC_ID  TCE_num                                                               \n",
       "757450  1           0.007862        12.181757  0.001264  0.000177 -0.015739   \n",
       "1026032 1           0.000000         6.820030  0.008070  0.000360 -0.077604   \n",
       "1293031 1           0.289257         8.781153  0.000008  0.000026 -0.000017   \n",
       "1432214 1           0.000004        29.683030  0.002478  0.001184 -0.086902   \n",
       "1432789 1           0.008181        20.743805  0.000072  0.000360 -0.000422   \n",
       "\n",
       "                 ...  LCBIN_131  LCBIN_132  LCBIN_133  LCBIN_134  LCBIN_135  \\\n",
       "KIC_ID  TCE_num  ...                                                          \n",
       "757450  1        ...   0.003811   0.003485   0.004310   0.005135   0.005959   \n",
       "1026032 1        ...   0.001283   0.001274   0.001265   0.001134   0.001003   \n",
       "1293031 1        ...   0.417232   0.435126   0.453019   0.470913   0.488807   \n",
       "1432214 1        ...  -0.000726  -0.000781  -0.000837  -0.000892  -0.000278   \n",
       "1432789 1        ...   0.182302   0.196967   0.202510   0.208052   0.213595   \n",
       "\n",
       "                 LCBIN_136  LCBIN_137  LCBIN_138  LCBIN_139  LCBIN_140  \n",
       "KIC_ID  TCE_num                                                         \n",
       "757450  1         0.006784   0.007609   0.008434   0.009258   0.010083  \n",
       "1026032 1         0.000872   0.000741   0.000870   0.000999   0.001129  \n",
       "1293031 1         0.506700   0.524594   0.542487   0.560381   0.578274  \n",
       "1432214 1         0.000336   0.000950   0.001251   0.001553   0.001854  \n",
       "1432789 1         0.153873   0.094150   0.034427   0.109613   0.184799  \n",
       "\n",
       "[5 rows x 151 columns]"
      ],
      "text/html": "<div>\n<style scoped>\n    .dataframe tbody tr th:only-of-type {\n        vertical-align: middle;\n    }\n\n    .dataframe tbody tr th {\n        vertical-align: top;\n    }\n\n    .dataframe thead th {\n        text-align: right;\n    }\n</style>\n<table border=\"1\" class=\"dataframe\">\n  <thead>\n    <tr style=\"text-align: right;\">\n      <th></th>\n      <th></th>\n      <th>Period</th>\n      <th>Depth</th>\n      <th>Duration</th>\n      <th>target_label</th>\n      <th>even_odd_stat</th>\n      <th>p_secondary</th>\n      <th>time_complexity</th>\n      <th>rms</th>\n      <th>max</th>\n      <th>min</th>\n      <th>...</th>\n      <th>LCBIN_131</th>\n      <th>LCBIN_132</th>\n      <th>LCBIN_133</th>\n      <th>LCBIN_134</th>\n      <th>LCBIN_135</th>\n      <th>LCBIN_136</th>\n      <th>LCBIN_137</th>\n      <th>LCBIN_138</th>\n      <th>LCBIN_139</th>\n      <th>LCBIN_140</th>\n    </tr>\n    <tr>\n      <th>KIC_ID</th>\n      <th>TCE_num</th>\n      <th></th>\n      <th></th>\n      <th></th>\n      <th></th>\n      <th></th>\n      <th></th>\n      <th></th>\n      <th></th>\n      <th></th>\n      <th></th>\n      <th></th>\n      <th></th>\n      <th></th>\n      <th></th>\n      <th></th>\n      <th></th>\n      <th></th>\n      <th></th>\n      <th></th>\n      <th></th>\n      <th></th>\n    </tr>\n  </thead>\n  <tbody>\n    <tr>\n      <th>757450</th>\n      <th>1</th>\n      <td>8.884923</td>\n      <td>16053.4</td>\n      <td>2.07004</td>\n      <td>1</td>\n      <td>0.925362</td>\n      <td>0.007862</td>\n      <td>12.181757</td>\n      <td>0.001264</td>\n      <td>0.000177</td>\n      <td>-0.015739</td>\n      <td>...</td>\n      <td>0.003811</td>\n      <td>0.003485</td>\n      <td>0.004310</td>\n      <td>0.005135</td>\n      <td>0.005959</td>\n      <td>0.006784</td>\n      <td>0.007609</td>\n      <td>0.008434</td>\n      <td>0.009258</td>\n      <td>0.010083</td>\n    </tr>\n    <tr>\n      <th>1026032</th>\n      <th>1</th>\n      <td>8.460439</td>\n      <td>76412.9</td>\n      <td>4.73492</td>\n      <td>2</td>\n      <td>0.978880</td>\n      <td>0.000000</td>\n      <td>6.820030</td>\n      <td>0.008070</td>\n      <td>0.000360</td>\n      <td>-0.077604</td>\n      <td>...</td>\n      <td>0.001283</td>\n      <td>0.001274</td>\n      <td>0.001265</td>\n      <td>0.001134</td>\n      <td>0.001003</td>\n      <td>0.000872</td>\n      <td>0.000741</td>\n      <td>0.000870</td>\n      <td>0.000999</td>\n      <td>0.001129</td>\n    </tr>\n    <tr>\n      <th>1293031</th>\n      <th>1</th>\n      <td>0.539366</td>\n      <td>145.0</td>\n      <td>5.43400</td>\n      <td>3</td>\n      <td>0.499758</td>\n      <td>0.289257</td>\n      <td>8.781153</td>\n      <td>0.000008</td>\n      <td>0.000026</td>\n      <td>-0.000017</td>\n      <td>...</td>\n      <td>0.417232</td>\n      <td>0.435126</td>\n      <td>0.453019</td>\n      <td>0.470913</td>\n      <td>0.488807</td>\n      <td>0.506700</td>\n      <td>0.524594</td>\n      <td>0.542487</td>\n      <td>0.560381</td>\n      <td>0.578274</td>\n    </tr>\n    <tr>\n      <th>1432214</th>\n      <th>1</th>\n      <td>161.788327</td>\n      <td>87750.0</td>\n      <td>5.31000</td>\n      <td>2</td>\n      <td>0.997538</td>\n      <td>0.000004</td>\n      <td>29.683030</td>\n      <td>0.002478</td>\n      <td>0.001184</td>\n      <td>-0.086902</td>\n      <td>...</td>\n      <td>-0.000726</td>\n      <td>-0.000781</td>\n      <td>-0.000837</td>\n      <td>-0.000892</td>\n      <td>-0.000278</td>\n      <td>0.000336</td>\n      <td>0.000950</td>\n      <td>0.001251</td>\n      <td>0.001553</td>\n      <td>0.001854</td>\n    </tr>\n    <tr>\n      <th>1432789</th>\n      <th>1</th>\n      <td>9.931463</td>\n      <td>398.6</td>\n      <td>5.67800</td>\n      <td>1</td>\n      <td>0.299867</td>\n      <td>0.008181</td>\n      <td>20.743805</td>\n      <td>0.000072</td>\n      <td>0.000360</td>\n      <td>-0.000422</td>\n      <td>...</td>\n      <td>0.182302</td>\n      <td>0.196967</td>\n      <td>0.202510</td>\n      <td>0.208052</td>\n      <td>0.213595</td>\n      <td>0.153873</td>\n      <td>0.094150</td>\n      <td>0.034427</td>\n      <td>0.109613</td>\n      <td>0.184799</td>\n    </tr>\n  </tbody>\n</table>\n<p>5 rows × 151 columns</p>\n</div>"
     },
     "metadata": {},
     "execution_count": 5
    }
   ],
   "source": [
    "total_set.head()"
   ]
  },
  {
   "cell_type": "code",
   "execution_count": 7,
   "metadata": {},
   "outputs": [
    {
     "output_type": "execute_result",
     "data": {
      "text/plain": [
       "(5355, 151)"
      ]
     },
     "metadata": {},
     "execution_count": 7
    }
   ],
   "source": [
    "total_set.shape"
   ]
  },
  {
   "source": [
    "#### Let's check for NaNs."
   ],
   "cell_type": "markdown",
   "metadata": {}
  },
  {
   "cell_type": "code",
   "execution_count": 9,
   "metadata": {},
   "outputs": [
    {
     "output_type": "execute_result",
     "data": {
      "text/plain": [
       "even_odd_stat    16\n",
       "LCBIN_140         0\n",
       "LCBIN_36          0\n",
       "LCBIN_43          0\n",
       "LCBIN_42          0\n",
       "                 ..\n",
       "LCBIN_89          0\n",
       "LCBIN_88          0\n",
       "LCBIN_87          0\n",
       "LCBIN_86          0\n",
       "Period            0\n",
       "Length: 151, dtype: int64"
      ]
     },
     "metadata": {},
     "execution_count": 9
    }
   ],
   "source": [
    "total_set.isna().sum().sort_values(ascending = False)"
   ]
  },
  {
   "source": [
    "There are some NaNs in the even-odd phase transit statistic. This is due to the fact that there are some light curves where there is only odd or even phase cycles (mainly TCEs with long periods and gaps in the time series such that one of the parities is completely absent). Let's just \n",
    "impute this column to 0.5 (i.e. no difference between even-odd parity)."
   ],
   "cell_type": "markdown",
   "metadata": {}
  },
  {
   "cell_type": "code",
   "execution_count": 18,
   "metadata": {},
   "outputs": [
    {
     "output_type": "execute_result",
     "data": {
      "text/plain": [
       "LCBIN_140    0\n",
       "LCBIN_45     0\n",
       "LCBIN_43     0\n",
       "LCBIN_42     0\n",
       "LCBIN_41     0\n",
       "            ..\n",
       "LCBIN_89     0\n",
       "LCBIN_88     0\n",
       "LCBIN_87     0\n",
       "LCBIN_86     0\n",
       "Period       0\n",
       "Length: 151, dtype: int64"
      ]
     },
     "metadata": {},
     "execution_count": 18
    }
   ],
   "source": [
    "total_set['even_odd_stat'] = total_set['even_odd_stat'].fillna(0.5)\n",
    "total_set.isna().sum().sort_values(ascending = False)"
   ]
  },
  {
   "source": [
    "#### Overwrite csv with no nans: can use this to start our EDA"
   ],
   "cell_type": "markdown",
   "metadata": {}
  },
  {
   "cell_type": "code",
   "execution_count": 19,
   "metadata": {},
   "outputs": [],
   "source": [
    "feature_df_path = \"..\\\\data\\\\feat_df_tot.csv\"\n",
    "total_set.to_csv(feature_df_path)"
   ]
  },
  {
   "cell_type": "code",
   "execution_count": 31,
   "metadata": {},
   "outputs": [],
   "source": [
    "S = KOIObject(1026032, 1).total_initialize()"
   ]
  }
 ]
}